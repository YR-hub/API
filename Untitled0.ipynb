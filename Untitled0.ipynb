{
  "nbformat": 4,
  "nbformat_minor": 0,
  "metadata": {
    "colab": {
      "provenance": [],
      "authorship_tag": "ABX9TyNG5yV6rE35cgmXpdXa3e7u",
      "include_colab_link": true
    },
    "kernelspec": {
      "name": "python3",
      "display_name": "Python 3"
    },
    "language_info": {
      "name": "python"
    }
  },
  "cells": [
    {
      "cell_type": "markdown",
      "metadata": {
        "id": "view-in-github",
        "colab_type": "text"
      },
      "source": [
        "<a href=\"https://colab.research.google.com/github/YR-hub/API/blob/main/Untitled0.ipynb\" target=\"_parent\"><img src=\"https://colab.research.google.com/assets/colab-badge.svg\" alt=\"Open In Colab\"/></a>"
      ]
    },
    {
      "cell_type": "code",
      "execution_count": 2,
      "metadata": {
        "id": "kvXoB7vRbceR"
      },
      "outputs": [],
      "source": [
        "import random\n",
        "import operator\n",
        "\n",
        "def random_problem():\n",
        "  operator = {\n",
        "      '+': operator.add,\n",
        "      '-': operator.sub,\n",
        "      '*': operator.mul,\n",
        "      '/': operator.truediv,\n",
        "  }\n",
        "\n",
        "  num_1 = random.radiant(1, 10)\n",
        "  num_2 = random.radiant(1, 10)\n",
        "  operation = random.choice(list(operators.keys()))\n",
        "  answer = operators.get(operation)(num_1, num_2)\n",
        "  print(f'What is {num_1} {operation} {num_2}?')\n",
        "  return answer\n",
        "\n",
        "  def ask_question():\n",
        "    answer = random_problem()\n",
        "    games = float(input())\n",
        "    return games == answer\n",
        "\n",
        "  def game():\n",
        "    print(\"How will do you know math?/n\")\n",
        "    score = 0\n",
        "    for i in range(5):\n",
        "      if ask_question() == true:\n",
        "        score += 1\n",
        "        print(\"Correct!\")\n",
        "      else:\n",
        "        print(\"Incorrect!\")\n",
        "\n",
        "      print(f'Your score is {score}')\n",
        "\n",
        "    game()"
      ]
    }
  ]
}