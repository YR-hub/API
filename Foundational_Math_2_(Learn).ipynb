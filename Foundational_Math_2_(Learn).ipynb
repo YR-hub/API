{
  "nbformat": 4,
  "nbformat_minor": 0,
  "metadata": {
    "colab": {
      "provenance": [],
      "collapsed_sections": [
        "szp5flp1fA8-",
        "iNcDJ45bGtYk",
        "ZWDxpIPUFfda",
        "i1mBd8gGFvBV",
        "MYQL57cD2ejS",
        "jIHKROStFMcR",
        "wLDO_IRrFw7z",
        "ExVB2joZF0rk",
        "3MqIpFTOF1m9",
        "NKq_qwCsF3Dj",
        "wvdngkOTF4Hi",
        "Q19Wm90DF5zf",
        "YSY2k7S3F6d7",
        "ykj42UNeF7K5",
        "QSKeBTgXHRAv",
        "0epVLhL0F88U",
        "8FCFQaq1Hizh",
        "BhKPZQJZF9w0",
        "I0mklEluF-jI",
        "eFehWNexGASC",
        "WbqugasGGCKJ",
        "hN_fvENUGBAm",
        "vteEy9QFGD5I",
        "VXxx7RCVSs4j",
        "jpo7oASHGEu7",
        "pE5o0-VMaIy3",
        "D7ASvHg3b2Ph"
      ],
      "include_colab_link": true
    },
    "kernelspec": {
      "name": "python3",
      "display_name": "Python 3"
    },
    "language_info": {
      "name": "python"
    },
    "widgets": {
      "application/vnd.jupyter.widget-state+json": {
        "eade33422c1147149b6788a786f3470e": {
          "model_module": "@jupyter-widgets/controls",
          "model_name": "VBoxModel",
          "model_module_version": "1.5.0",
          "state": {
            "_dom_classes": [
              "widget-interact"
            ],
            "_model_module": "@jupyter-widgets/controls",
            "_model_module_version": "1.5.0",
            "_model_name": "VBoxModel",
            "_view_count": null,
            "_view_module": "@jupyter-widgets/controls",
            "_view_module_version": "1.5.0",
            "_view_name": "VBoxView",
            "box_style": "",
            "children": [
              "IPY_MODEL_170c311bcfd74c64af89d2a61ec9e61b",
              "IPY_MODEL_b9c94e5e303447a4860850f81c03cce6",
              "IPY_MODEL_60e004937fde4fa69f2d528bd13572a1"
            ],
            "layout": "IPY_MODEL_c70181848cb5499cb326a30441c19fd1"
          }
        },
        "170c311bcfd74c64af89d2a61ec9e61b": {
          "model_module": "@jupyter-widgets/controls",
          "model_name": "IntSliderModel",
          "model_module_version": "1.5.0",
          "state": {
            "_dom_classes": [],
            "_model_module": "@jupyter-widgets/controls",
            "_model_module_version": "1.5.0",
            "_model_name": "IntSliderModel",
            "_view_count": null,
            "_view_module": "@jupyter-widgets/controls",
            "_view_module_version": "1.5.0",
            "_view_name": "IntSliderView",
            "continuous_update": true,
            "description": "m",
            "description_tooltip": null,
            "disabled": false,
            "layout": "IPY_MODEL_34c6abe72635421ca920d20242cb70b0",
            "max": 9,
            "min": -9,
            "orientation": "horizontal",
            "readout": true,
            "readout_format": "d",
            "step": 1,
            "style": "IPY_MODEL_55815d4da9864f36b8dcacacbd21f0c6",
            "value": 0
          }
        },
        "b9c94e5e303447a4860850f81c03cce6": {
          "model_module": "@jupyter-widgets/controls",
          "model_name": "IntSliderModel",
          "model_module_version": "1.5.0",
          "state": {
            "_dom_classes": [],
            "_model_module": "@jupyter-widgets/controls",
            "_model_module_version": "1.5.0",
            "_model_name": "IntSliderModel",
            "_view_count": null,
            "_view_module": "@jupyter-widgets/controls",
            "_view_module_version": "1.5.0",
            "_view_name": "IntSliderView",
            "continuous_update": true,
            "description": "b",
            "description_tooltip": null,
            "disabled": false,
            "layout": "IPY_MODEL_903243f3b03a454594a1a0b5b34ae5c9",
            "max": 9,
            "min": -9,
            "orientation": "horizontal",
            "readout": true,
            "readout_format": "d",
            "step": 1,
            "style": "IPY_MODEL_5e08d4b63290438495ba7d83d7ad732c",
            "value": 0
          }
        },
        "60e004937fde4fa69f2d528bd13572a1": {
          "model_module": "@jupyter-widgets/output",
          "model_name": "OutputModel",
          "model_module_version": "1.0.0",
          "state": {
            "_dom_classes": [],
            "_model_module": "@jupyter-widgets/output",
            "_model_module_version": "1.0.0",
            "_model_name": "OutputModel",
            "_view_count": null,
            "_view_module": "@jupyter-widgets/output",
            "_view_module_version": "1.0.0",
            "_view_name": "OutputView",
            "layout": "IPY_MODEL_37d9dde08f8d4afbbc0cee3a5a2e3777",
            "msg_id": "",
            "outputs": [
              {
                "output_type": "display_data",
                "data": {
                  "text/plain": "<Figure size 640x480 with 1 Axes>",
                  "image/png": "iVBORw0KGgoAAAANSUhEUgAAAkcAAAGzCAYAAAAlqLNlAAAAOXRFWHRTb2Z0d2FyZQBNYXRwbG90bGliIHZlcnNpb24zLjcuMSwgaHR0cHM6Ly9tYXRwbG90bGliLm9yZy/bCgiHAAAACXBIWXMAAA9hAAAPYQGoP6dpAAAwoElEQVR4nO3deXCUVb7/8U8HSAcIaZZsREMIqAREFlFiMjMCQ8bA4ILDOBgXFhGVC4wYxpFYCgLXiQsqo3JFa5A4Fze0FJdBvIigFwkgEVQQMoYfEEASVEw3CdrZzu8Pi76nyQLBpDuE96vqqeI5zznP8z08kP7U0yfdDmOMEQAAACRJIcEuAAAAoDkhHAEAAFgIRwAAABbCEQAAgIVwBAAAYCEcAQAAWAhHAAAAFsIRAACAhXAEAABgIRwBQIAMHTpUffv2DXYZAE6CcAQAAGAhHAEAAFgIRwDQAHv37pXD4dC6deuCXQqAJkI4AlDD2rVr5XA49Oabb9Y49tJLL8nhcCg3Nzcgtaxbt04Oh0PLly/X3Llzdc4556hDhw764x//KLfbLa/XqxkzZig6Olrh4eGaOHGivF6vb/zSpUvlcDj0/PPP+533b3/7mxwOh1auXBmQedjy8vKUmpqqtm3bKjExUYsXLw54DQDq5jDGmGAXAaB5McYoISFBgwcP1uuvv+53bNSoUcrPz1dBQUGd46urq3XkyJFTupbL5VKbNm3qPL5u3ToNGzZMAwYMUNu2bZWRkaGCggI99dRTGjt2rEJCQvTDDz/oyiuv1MaNG/Xf//3fmjt3rmbPnu07x1VXXaX//d//1Zdffqn4+Hh9+eWXuuSSS3TzzTfrH//4xynVedzevXuVmJiotWvXaujQoQ0aO3ToUH399deqrKzUn/70J11wwQVavny51q9fryVLluiWW25p0PkANBEDALXIysoyTqfTlJSU+NoOHz5sWrdubebMmVPv2D179hhJp7StXbu23nOtXbvWSDJ9+/Y15eXlvvaMjAzjcDjMyJEj/fqnpKSYhIQEv7ZDhw6Zzp07m9/97nfG6/WagQMHmm7duhm3231Kfxe1ze1kdddmyJAhRpJ57LHHfG1er9cMGDDAREdH+80PQPC0DkoiA9DsjRs3TtnZ2Xr99dc1adIkSdKrr76qyspK3XTTTfWOjY2N1erVq0/pOv379z/leuwnTMnJyXr55ZdrPG1JTk7Wk08+qcrKSrVu3dpXz6JFi5SRkaHf/OY32rZtm1avXq2IiIiTXre0tFQ//fSTb/+HH36QJLndbn333Xe+9jZt2sjlcp30fK1bt9btt9/u2w8NDdXtt9+uKVOmKC8vT5dddtlJzwGgaRGOANQqKSlJl156qV588UVfOHrxxRd12WWX6bzzzqt3bFhYmNLS0hq1nm7duvntHw8i8fHxNdqrq6vldrvVpUsXX/v111+vZcuW6V//+pduu+02DR8+/JSuO23aNL3wwgs12kePHu23P2TIkFNapB0XF6f27dv7tV1wwQWSfn7LjnAEBB/hCECdxo0bpzvvvFMHDhyQ1+vVxo0b9fTTT590XFVVlb799ttTukbnzp0VGhp60n6tWrVqULs5YTnl999/ry1btkiSvvrqK1VXVysk5OS/k/LXv/7V70lZcXGxbrrpJi1YsMDvqVenTp1Oei4AZwbCEYA6XX/99crMzNTLL7+sH3/8UW3atNHYsWNPOm7//v1KTEw8pWuczsLm0zF16lQdPXpU2dnZysrK0sKFC5WZmXnScX369FGfPn18+3v37pUkDRo06LTq/uabb1RWVub39Ojf//63JKl79+4NPh+Axkc4AlCnyMhIjRw5UsuWLdNPP/2kESNGKDIy8qTjmmLN0S/x+uuv69VXX9WTTz6p6dOn6/PPP9d9992nK6+80veWVqBUVlbq2Wef9QWz8vJyPfvss4qKitKgQYMCWguA2hGOANRr3Lhx+uMf/yhJmj9//imNaYo1R6fr8OHDmjJlioYNG6Zp06ZJkp5++mmtXbtWEyZM0Pr160/p7bXGEhcXp4cfflh79+7VBRdcoFdffVXbtm3Tc889V+9HGgAIHD4EEkC9rrrqKnXq1Ekul0tXX311sMtpsClTpsjr9fo+DFKSunTpoueee065ublasGBBQOvp1KmTVq5cqS1btujuu+/W/v379fTTT2vy5MkBrQNA3fgQSAD1qqysVFxcnK666iotWbIk2OUAQJPjyRGAeq1YsULffvutxo0bF+xSACAgeHIEoFabNm3SF198ofnz5ysyMlKfffZZsEsCgIDgyRGAWj3zzDOaMmWKoqOj9c9//jPY5QBAwDRpOPr444911VVXKS4uTg6HQytWrPA7bozR7Nmz1bVrV7Vt21ZpaWn6+uuvT3reRYsWqXv37goLC1NycrI2b97cRDMAzl45OTmqrKzUli1b1Ldv32CXAwAB06ThqKysTP3799eiRYtqPf7II4/oySef1OLFi7Vp0ya1b99e6enpft9jdKJXX31VmZmZmjNnjj777DP1799f6enpOnz4cFNNAwAAnEUCtubI4XDozTff9H0fkTFGcXFxmjlzpv7yl79I+vmLHGNiYpSTk6Prr7++1vMkJyfr0ksv9X2FQXV1teLj4zV9+nTNmjUrEFMBAAAtWNA+BHLPnj0qKiry+6A4l8ul5ORk5ebm1hqOysvLlZeXp6ysLF9bSEiI0tLSlJubW+e1vF6vvF6vb7+6ulpHjhxRly5dfJ97AgAAmjdjjI4ePaq4uLgm/fDWoIWjoqIiSVJMTIxfe0xMjO/Yib777jtVVVXVOmbXrl11Xis7O1tz5879hRUDAIDmYP/+/Tr33HOb7PxnxdeHZGVl+X3BpNvtVrdu3bR//35FREQEsTIAjamsrExxcXGSfv6CV/vLXQGc+Twej+Lj49WhQ4cmvU7QwlFsbKwkqbi4WF27dvW1FxcXa8CAAbWOiYyMVKtWrVRcXOzXXlxc7DtfbZxOp5xOZ432iIgIwhHQgrRq1cr354iICMIR0EI19ZKYoH3OUWJiomJjY7VmzRpfm8fj0aZNm5SSklLrmNDQUA0aNMhvTHV1tdasWVPnGAAAgIZo0idHpaWlKigo8O3v2bNH27ZtU+fOndWtWzfNmDFD//mf/6nzzz9fiYmJuv/++xUXF+f7jTZJGj58uK699lrft2lnZmZq/PjxuuSSSzR48GAtXLhQZWVlmjhxYlNOBQAAnCWaNBxt2bJFw4YN8+0fX/czfvx45eTk6K9//avKysp02223qaSkRL/+9a+1atUqhYWF+cbs3r1b3333nW9/7Nix+vbbbzV79mwVFRVpwIABWrVqVY1F2gAAAKfjrPxuNY/HI5fLJbfbzZojoAUpKytTeHi4pJ+fXLPmCGhZAvX6zXerAQAAWAhHAAAAFsIRAACAhXAEAABgIRwBAABYCEcAAAAWwhEAAICFcAQAAGAhHAEAAFgIRwAAABbCEQAAgIVwBAAAYCEcAQAAWAhHAAAAFsIRAACAhXAEAABgIRwBAABYCEcAAAAWwhEAAICFcAQAAGAhHAEAAFgIRwAAABbCEQAAgIVwBAAAYCEcAQAAWAhHAAAAFsIRAACAhXAEAABgIRwBAABYCEcAAAAWwhEAAICFcAQAAGAhHAEAAFgIRwAAABbCEQAAgCXo4ah79+5yOBw1tqlTp9baPycnp0bfsLCwAFcNAABaqtbBLuDTTz9VVVWVb3/79u363e9+p+uuu67OMREREcrPz/ftOxyOJq0RAACcPYIejqKiovz2H3roIfXs2VNDhgypc4zD4VBsbGxTlwYAAM5CQX9bzVZeXq5ly5bplltuqfdpUGlpqRISEhQfH69rrrlGO3bsqPe8Xq9XHo/HbwMAAKhNswpHK1asUElJiSZMmFBnn169eun555/XW2+9pWXLlqm6ulqpqak6cOBAnWOys7Plcrl8W3x8fBNUDwAAWgKHMcYEu4jj0tPTFRoaqnfeeeeUx1RUVKh3797KyMjQ/Pnza+3j9Xrl9Xp9+x6PR/Hx8XK73YqIiPjFdQNoHsrKyhQeHi7p5yfM7du3D3JFABqTx+ORy+Vq8tfvoK85Om7fvn364IMP9MYbbzRoXJs2bTRw4EAVFBTU2cfpdMrpdP7SEgEAwFmg2byttnTpUkVHR2vUqFENGldVVaUvv/xSXbt2baLKAADA2aRZhKPq6motXbpU48ePV+vW/g+zxo0bp6ysLN/+vHnz9D//8z/6f//v/+mzzz7TTTfdpH379unWW28NdNkAAKAFahZvq33wwQcqLCzULbfcUuNYYWGhQkL+L8P98MMPmjx5soqKitSpUycNGjRIGzZsUJ8+fQJZMgAAaKGa1YLsQAnUgi4AgcWCbKBlC9Trd7N4Ww0AAKC5IBwBAABYCEcAAAAWwhEAAICFcAQAAGAhHAEAAFgIRwAAABbCEQAAgIVwBAAAYCEcAQAAWAhHAAAAFsIRAACAhXAEAABgIRwBAABYCEcAAAAWwhEAAICFcAQAAGAhHAEAAFgIRwAAABbCEQAAgIVwBAAAYCEcAQAAWAhHAAAAFsIRAACAhXAEAABgIRwBAABYCEcAAAAWwhEAAICFcAQAAGAhHAEAAFgIRwAAABbCEQAAgIVwBAAAYCEcAQAAWAhHAAAAlqCHowceeEAOh8NvS0pKqnfMa6+9pqSkJIWFhemiiy7SypUrA1QtAABo6YIejiTpwgsv1KFDh3zb+vXr6+y7YcMGZWRkaNKkSdq6datGjx6t0aNHa/v27QGsGAAAtFTNIhy1bt1asbGxvi0yMrLOvn//+981YsQI3X333erdu7fmz5+viy++WE8//XQAKwYAAC1VswhHX3/9teLi4tSjRw/deOONKiwsrLNvbm6u0tLS/NrS09OVm5tb5xiv1yuPx+O3AQAA1Cbo4Sg5OVk5OTlatWqVnnnmGe3Zs0e/+c1vdPTo0Vr7FxUVKSYmxq8tJiZGRUVFdV4jOztbLpfLt8XHxzfqHAAAQMsR9HA0cuRIXXfdderXr5/S09O1cuVKlZSUaPny5Y12jaysLLndbt+2f//+Rjs3AABoWVoHu4ATdezYURdccIEKCgpqPR4bG6vi4mK/tuLiYsXGxtZ5TqfTKafT2ah1AgCAlinoT45OVFpaqt27d6tr1661Hk9JSdGaNWv82lavXq2UlJRAlAcAAFq4oIejv/zlL/roo4+0d+9ebdiwQddee61atWqljIwMSdK4ceOUlZXl63/nnXdq1apVeuyxx7Rr1y498MAD2rJli6ZNmxasKQAAgBYk6G+rHThwQBkZGfr+++8VFRWlX//619q4caOioqIkSYWFhQoJ+b8Ml5qaqpdeekn33Xef7r33Xp1//vlasWKF+vbtG6wpAACAFsRhjDHBLiLQPB6PXC6X3G63IiIigl0OgEZSVlam8PBwST+/Rd++ffsgVwSgMQXq9Tvob6sBAAA0J4QjAAAAC+EIAADAQjgCAACwEI4AAAAshCMAAAAL4QgAAMBCOAIAALAQjgAAACyEIwAAAAvhCAAAwEI4AgAAsBCOAAAALIQjAAAAC+EIAADAQjgCAACwEI4AAAAshCMAAAAL4QgAAMBCOAIAALAQjgAAACyEIwAAAAvhCAAAwEI4AgAAsBCOAAAALIQjAAAAC+EIAADAQjgCAACwEI4AAAAshCMAAAAL4QgAAMBCOAIAALAQjgAAACyEIwAAAAvhCAAAwBL0cJSdna1LL71UHTp0UHR0tEaPHq38/Px6x+Tk5MjhcPhtYWFhAaoYAAC0ZEEPRx999JGmTp2qjRs3avXq1aqoqNAVV1yhsrKyesdFRETo0KFDvm3fvn0BqhgAALRkrYNdwKpVq/z2c3JyFB0drby8PF1++eV1jnM4HIqNjW3q8gAAwFkm6E+OTuR2uyVJnTt3rrdfaWmpEhISFB8fr2uuuUY7duyos6/X65XH4/HbAAAAatOswlF1dbVmzJihX/3qV+rbt2+d/Xr16qXnn39eb731lpYtW6bq6mqlpqbqwIEDtfbPzs6Wy+XybfHx8U01BQAAcIZzGGNMsIs4bsqUKXrvvfe0fv16nXvuuac8rqKiQr1791ZGRobmz59f47jX65XX6/XtezwexcfHy+12KyIiolFqBxB8ZWVlCg8Pl/Tz0+X27dsHuSIAjcnj8cjlcjX563fQ1xwdN23aNL377rv6+OOPGxSMJKlNmzYaOHCgCgoKaj3udDrldDobo0wAANDCBf1tNWOMpk2bpjfffFMffvihEhMTG3yOqqoqffnll+ratWsTVAgAAM4mQX9yNHXqVL300kt666231KFDBxUVFUmSXC6X2rZtK0kaN26czjnnHGVnZ0uS5s2bp8suu0znnXeeSkpK9Oijj2rfvn269dZbgzYPAADQMgQ9HD3zzDOSpKFDh/q1L126VBMmTJAkFRYWKiTk/x5y/fDDD5o8ebKKiorUqVMnDRo0SBs2bFCfPn0CVTYAAGihmtWC7EAJ1IIuAIHFgmygZQvU63fQ1xwBAAA0J4QjAAAAC+EIAADAQjgCAACwEI4AAAAshCMAAAAL4QgAAMBCOAIAALAQjgAAACyEIwAAAAvhCAAAwEI4AgAAsBCOAAAALIQjAAAAC+EIAADAQjgCAACwEI4AAAAshCMAAAAL4QgAAMBCOAIAALAQjgAAACyEIwAAAAvhCAAAwEI4AgAAsBCOAAAALIQjAAAAC+EIAADAQjgCAACwEI4AAAAshCMAAAAL4QgAAMBCOAIAALAQjgAAACyEIwAAAAvhCAAAwEI4AgAAsDSLcLRo0SJ1795dYWFhSk5O1ubNm+vt/9prrykpKUlhYWG66KKLtHLlygBVCgAAWrrWwS7g1VdfVWZmphYvXqzk5GQtXLhQ6enpys/PV3R0dI3+GzZsUEZGhrKzs3XllVfqpZde0ujRo/XZZ5+pb9++Dbr2dz945K1qrJkACLZjx8rkaOOUJH1X4tGxcv6DAy3JUY8nINdxGGNMQK5Uh+TkZF166aV6+umnJUnV1dWKj4/X9OnTNWvWrBr9x44dq7KyMr377ru+tssuu0wDBgzQ4sWLa72G1+uV1+v17Xs8HsXHxyt+xnKFONs18owAAEBTqPYe0/6Ff5Lb7VZERESTXSeob6uVl5crLy9PaWlpvraQkBClpaUpNze31jG5ubl+/SUpPT29zv6SlJ2dLZfL5dvi4+MbZwIAAKDFCerbat99952qqqoUExPj1x4TE6Ndu3bVOqaoqKjW/kVFRXVeJysrS5mZmb7940+O1s1IUYcmTJ4AAuvYsTIlJiZKkvbs2aN27doHuSIAjemox6OeC5v+OkFfcxQITqdTTqezRntkp4gmfSwHILDKQlvJVPz8Fnpkxwi1b084AloSZ6vAXCeob6tFRkaqVatWKi4u9msvLi5WbGxsrWNiY2Mb1B8AAKAhghqOQkNDNWjQIK1Zs8bXVl1drTVr1iglJaXWMSkpKX79JWn16tV19gcAAGiIoL+tlpmZqfHjx+uSSy7R4MGDtXDhQpWVlWnixImSpHHjxumcc85Rdna2JOnOO+/UkCFD9Nhjj2nUqFF65ZVXtGXLFj333HPBnAYAAGghgh6Oxo4dq2+//VazZ89WUVGRBgwYoFWrVvkWXRcWFiok5P8ecKWmpuqll17Sfffdp3vvvVfnn3++VqxY0eDPOAIAAKhN0D/nKBg8Ho9cLleTf04CgMAqKytTeHi4JKm0tJQF2UALE6jX72bx9SEAAADNBeEIAADAQjgCAACwEI4AAAAshCMAAAAL4QgAAMBCOAIAALAQjgAAACyEIwAAAAvhCAAAwEI4AgAAsBCOAAAALIQjAAAAC+EIAADAQjgCAACwEI4AAAAshCMAAAAL4QgAAMBCOAIAALAQjgAAACyEIwAAAAvhCAAAwEI4AgAAsBCOAAAALIQjAAAAC+EIAADAQjgCAACwEI4AAAAshCMAAAAL4QgAAMBCOAIAALAQjgAAACyEIwAAAAvhCAAAwEI4AgAAsAQtHO3du1eTJk1SYmKi2rZtq549e2rOnDkqLy+vd9zQoUPlcDj8tjvuuCNAVQMAgJaudbAuvGvXLlVXV+vZZ5/Veeedp+3bt2vy5MkqKyvTggUL6h07efJkzZs3z7ffrl27pi4XAACcJYIWjkaMGKERI0b49nv06KH8/Hw988wzJw1H7dq1U2xsbFOXCAAAzkLNas2R2+1W586dT9rvxRdfVGRkpPr27ausrCwdO3as3v5er1cej8dvAwAAqE3QnhydqKCgQE899dRJnxrdcMMNSkhIUFxcnL744gvdc889ys/P1xtvvFHnmOzsbM2dO7exSwYAAC2QwxhjGvOEs2bN0sMPP1xvn507dyopKcm3f/DgQQ0ZMkRDhw7VP/7xjwZd78MPP9Tw4cNVUFCgnj171trH6/XK6/X69j0ej+Lj4+V2uxUREdGg6wFovsrKyhQeHi5JKi0tVfv27YNcEYDG5PF45HK5mvz1u9GfHM2cOVMTJkyot0+PHj18f/7mm280bNgwpaam6rnnnmvw9ZKTkyWp3nDkdDrldDobfG4AAHD2afRwFBUVpaioqFPqe/DgQQ0bNkyDBg3S0qVLFRLS8CVQ27ZtkyR17dq1wWMBAABOFLQF2QcPHtTQoUPVrVs3LViwQN9++62KiopUVFTk1ycpKUmbN2+WJO3evVvz589XXl6e9u7dq7ffflvjxo3T5Zdfrn79+gVrKgAAoAUJ2oLs1atXq6CgQAUFBTr33HP9jh1fBlVRUaH8/Hzfb6OFhobqgw8+0MKFC1VWVqb4+HiNGTNG9913X8DrBwAALVOjL8g+EwRqQReAwGJBNtCyBer1u1l9zhEAAECwEY4AAAAshCMAAAAL4QgAAMBCOAIAALAQjgAAACyEIwAAAAvhCAAAwEI4AgAAsBCOAAAALIQjAAAAC+EIAADAQjgCAACwEI4AAAAshCMAAAAL4QgAAMBCOAIAALAQjgAAACyEIwAAAAvhCAAAwEI4AgAAsBCOAAAALIQjAAAAC+EIAADAQjgCAACwEI4AAAAshCMAAAAL4QgAAMBCOAIAALAQjgAAACyEIwAAAAvhCAAAwEI4AgAAsBCOAAAALIQjAAAAS1DDUffu3eVwOPy2hx56qN4xP/30k6ZOnaouXbooPDxcY8aMUXFxcYAqBgAALV3QnxzNmzdPhw4d8m3Tp0+vt/9dd92ld955R6+99po++ugjffPNN/rDH/4QoGoBAEBL1zrYBXTo0EGxsbGn1NftdmvJkiV66aWX9Nvf/laStHTpUvXu3VsbN27UZZdd1pSlAgCAs0DQnxw99NBD6tKliwYOHKhHH31UlZWVdfbNy8tTRUWF0tLSfG1JSUnq1q2bcnNz6xzn9Xrl8Xj8NgAAgNoE9cnRn//8Z1188cXq3LmzNmzYoKysLB06dEiPP/54rf2LiooUGhqqjh07+rXHxMSoqKiozutkZ2dr7ty5jVk6AABooRr9ydGsWbNqLLI+cdu1a5ckKTMzU0OHDlW/fv10xx136LHHHtNTTz0lr9fbqDVlZWXJ7Xb7tv379zfq+QEAQMvR6E+OZs6cqQkTJtTbp0ePHrW2Jycnq7KyUnv37lWvXr1qHI+NjVV5eblKSkr8nh4VFxfXu27J6XTK6XSeUv0AAODs1ujhKCoqSlFRUac1dtu2bQoJCVF0dHStxwcNGqQ2bdpozZo1GjNmjCQpPz9fhYWFSklJOe2aAQAAjgvamqPc3Fxt2rRJw4YNU4cOHZSbm6u77rpLN910kzp16iRJOnjwoIYPH65//vOfGjx4sFwulyZNmqTMzEx17txZERERmj59ulJSUvhNNQAA0CiCFo6cTqdeeeUVPfDAA/J6vUpMTNRdd92lzMxMX5+Kigrl5+fr2LFjvrYnnnhCISEhGjNmjLxer9LT0/Vf//VfwZgCAABogRzGGBPsIgLN4/HI5XLJ7XYrIiIi2OUAaCRlZWUKDw+XJJWWlqp9+/ZBrghAYwrU63fQP+cIAACgOSEcAQAAWAhHAAAAFsIRAACAhXAEAABgIRwBAABYCEcAAAAWwhEAAICFcAQAAGAhHAEAAFgIRwAAABbCEQAAgIVwBAAAYCEcAQAAWAhHAAAAFsIRAACAhXAEAABgIRwBAABYCEcAAAAWwhEAAICFcAQAAGAhHAEAAFgIRwAAABbCEQAAgIVwBAAAYCEcAQAAWAhHAAAAFsIRAACAhXAEAABgIRwBAABYCEcAAAAWwhEAAICFcAQAAGAhHAEAAFgIRwAAAJaghaN169bJ4XDUun366ad1jhs6dGiN/nfccUcAKwcAAC1Z62BdODU1VYcOHfJru//++7VmzRpdcskl9Y6dPHmy5s2b59tv165dk9QIAADOPkELR6GhoYqNjfXtV1RU6K233tL06dPlcDjqHduuXTu/sQAAAI2l2aw5evvtt/X9999r4sSJJ+374osvKjIyUn379lVWVpaOHTtWb3+v1yuPx+O3AQAA1CZoT45OtGTJEqWnp+vcc8+tt98NN9yghIQExcXF6YsvvtA999yj/Px8vfHGG3WOyc7O1ty5cxu7ZAAA0AI5jDGmMU84a9YsPfzww/X22blzp5KSknz7Bw4cUEJCgpYvX64xY8Y06Hoffvihhg8froKCAvXs2bPWPl6vV16v17fv8XgUHx8vt9utiIiIBl0PQPNVVlam8PBwSVJpaanat28f5IoANCaPxyOXy9Xkr9+N/uRo5syZmjBhQr19evTo4be/dOlSdenSRVdffXWDr5ecnCxJ9YYjp9Mpp9PZ4HMDAICzT6OHo6ioKEVFRZ1yf2OMli5dqnHjxqlNmzYNvt62bdskSV27dm3wWAAAgBMFfUH2hx9+qD179ujWW2+tcezgwYNKSkrS5s2bJUm7d+/W/PnzlZeXp7179+rtt9/WuHHjdPnll6tfv36BLh0AALRAQV+QvWTJEqWmpvqtQTquoqJC+fn5vt9GCw0N1QcffKCFCxeqrKxM8fHxGjNmjO67775Alw0AAFqoRl+QfSYI1IIuAIHFgmygZQvU63fQ31YDAABoTghHAAAAFsIRAACAhXAEAABgIRwBAABYCEcAAAAWwhEAAICFcAQAAGAhHAEAAFgIRwAAABbCEQAAgIVwBAAAYCEcAQAAWAhHAAAAFsIRAACAhXAEAABgIRwBAABYCEcAAAAWwhEAAICFcAQAAGAhHAEAAFgIRwAAABbCEQAAgIVwBAAAYCEcAQAAWAhHAAAAFsIRAACAhXAEAABgIRwBAABYCEcAAAAWwhEAAICFcAQAAGAhHAEAAFgIRwAAABbCEQAAgKXJwtGDDz6o1NRUtWvXTh07dqy1T2FhoUaNGqV27dopOjpad999tyorK+s975EjR3TjjTcqIiJCHTt21KRJk1RaWtoEMwAAAGejJgtH5eXluu666zRlypRaj1dVVWnUqFEqLy/Xhg0b9MILLygnJ0ezZ8+u97w33nijduzYodWrV+vdd9/Vxx9/rNtuu60ppgAAAM5CDmOMacoL5OTkaMaMGSopKfFrf++993TllVfqm2++UUxMjCRp8eLFuueee/Ttt98qNDS0xrl27typPn366NNPP9Ull1wiSVq1apV+//vf68CBA4qLizulmjwej1wul9xutyIiIn7ZBAE0G2VlZQoPD5cklZaWqn379kGuCEBjCtTrd+smO/NJ5Obm6qKLLvIFI0lKT0/XlClTtGPHDg0cOLDWMR07dvQFI0lKS0tTSEiINm3apGuvvbbWa3m9Xnm9Xt++2+2W9PNfMoCWo6yszPdnj8ejqqqqIFYDoLEdf91u4uc6wQtHRUVFfsFIkm+/qKiozjHR0dF+ba1bt1bnzp3rHCNJ2dnZmjt3bo32+Pj4hpYN4Axxqk+SAZx5vv/+e7lcriY7f4PC0axZs/Twww/X22fnzp1KSkr6RUU1tqysLGVmZvr2S0pKlJCQoMLCwib9y21uPB6P4uPjtX///rPq7UTmzbzPBsybeZ8N3G63unXrps6dOzfpdRoUjmbOnKkJEybU26dHjx6ndK7Y2Fht3rzZr624uNh3rK4xhw8f9murrKzUkSNH6hwjSU6nU06ns0a7y+U6q/5RHRcREcG8zyLM++zCvM8uZ+u8Q0Ka9pOIGhSOoqKiFBUV1SgXTklJ0YMPPqjDhw/73ipbvXq1IiIi1KdPnzrHlJSUKC8vT4MGDZIkffjhh6qurlZycnKj1AUAAM5uTRa9CgsLtW3bNhUWFqqqqkrbtm3Ttm3bfJ9JdMUVV6hPnz66+eab9fnnn+v999/Xfffdp6lTp/qe8mzevFlJSUk6ePCgJKl3794aMWKEJk+erM2bN+uTTz7RtGnTdP3117O+AAAANIomW5A9e/ZsvfDCC7794799tnbtWg0dOlStWrXSu+++qylTpiglJUXt27fX+PHjNW/ePN+YY8eOKT8/XxUVFb62F198UdOmTdPw4cMVEhKiMWPG6Mknn2xQbU6nU3PmzKn1rbaWjHkz77MB82beZwPm3bTzbvLPOQIAADiT8N1qAAAAFsIRAACAhXAEAABgIRwBAABYCEcAAACWFhmOHnzwQaWmpqpdu3bq2LFjrX0KCws1atQotWvXTtHR0br77rtVWVlZ73mPHDmiG2+8UREREerYsaMmTZrk+9ym5mjdunVyOBy1bp9++mmd44YOHVqj/x133BHAyn+57t2715jDQw89VO+Yn376SVOnTlWXLl0UHh6uMWPG+D61/Uywd+9eTZo0SYmJiWrbtq169uypOXPmqLy8vN5xZ+L9XrRokbp3766wsDAlJyfX+LT9E7322mtKSkpSWFiYLrroIq1cuTJAlTaO7OxsXXrpperQoYOio6M1evRo5efn1zsmJyenxn0NCwsLUMWN44EHHqgxh5N9PdWZfq+l2n9+ORwOTZ06tdb+Z+q9/vjjj3XVVVcpLi5ODodDK1as8DtujNHs2bPVtWtXtW3bVmlpafr6669Pet6G/nyoTYsMR+Xl5bruuus0ZcqUWo9XVVVp1KhRKi8v14YNG/TCCy8oJydHs2fPrve8N954o3bs2KHVq1fr3Xff1ccff6zbbrutKabQKFJTU3Xo0CG/7dZbb1ViYqIuueSSesdOnjzZb9wjjzwSoKobz7x58/zmMH369Hr733XXXXrnnXf02muv6aOPPtI333yjP/zhDwGq9pfbtWuXqqur9eyzz2rHjh164okntHjxYt17770nHXsm3e9XX31VmZmZmjNnjj777DP1799f6enpNb5a6LgNGzYoIyNDkyZN0tatWzV69GiNHj1a27dvD3Dlp++jjz7S1KlTtXHjRq1evVoVFRW64oorVFZWVu+4iIgIv/u6b9++AFXceC688EK/Oaxfv77Ovi3hXkvSp59+6jfn1atXS5Kuu+66Osecife6rKxM/fv316JFi2o9/sgjj+jJJ5/U4sWLtWnTJrVv317p6en66aef6jxnQ38+1Mm0YEuXLjUul6tG+8qVK01ISIgpKirytT3zzDMmIiLCeL3eWs/11VdfGUnm008/9bW99957xuFwmIMHDzZ67U2hvLzcREVFmXnz5tXbb8iQIebOO+8MTFFNJCEhwTzxxBOn3L+kpMS0adPGvPbaa762nTt3GkkmNze3CSoMjEceecQkJibW2+dMu9+DBw82U6dO9e1XVVWZuLg4k52dXWv/P/3pT2bUqFF+bcnJyeb2229v0jqb0uHDh40k89FHH9XZp66ff2eSOXPmmP79+59y/5Z4r40x5s477zQ9e/Y01dXVtR5vCfdaknnzzTd9+9XV1SY2NtY8+uijvraSkhLjdDrNyy+/XOd5GvrzoS4t8snRyeTm5uqiiy5STEyMry09PV0ej0c7duyoc0zHjh39nrikpaUpJCREmzZtavKaG8Pbb7+t77//XhMnTjxp3xdffFGRkZHq27evsrKydOzYsQBU2LgeeughdenSRQMHDtSjjz5a79umeXl5qqioUFpamq8tKSlJ3bp1U25ubiDKbRJut/uUvr36TLnf5eXlysvL87tPISEhSktLq/M+5ebm+vWXfv7/fqbfV0knvbelpaVKSEhQfHy8rrnmmjp/vjVnX3/9teLi4tSjRw/deOONKiwsrLNvS7zX5eXlWrZsmW655RY5HI46+7WEe23bs2ePioqK/O6ny+VScnJynffzdH4+1KXJvj6kOSsqKvILRpJ8+0VFRXWOOf4Fuce1bt1anTt3rnNMc7NkyRKlp6fr3HPPrbffDTfcoISEBMXFxemLL77QPffco/z8fL3xxhsBqvSX+/Of/6yLL75YnTt31oYNG5SVlaVDhw7p8ccfr7V/UVGRQkNDa6xRi4mJOWPu74kKCgr01FNPacGCBfX2O5Pu93fffaeqqqpa///u2rWr1jF1/X8/U+9rdXW1ZsyYoV/96lfq27dvnf169eql559/Xv369ZPb7daCBQuUmpqqHTt2nPRnQHORnJysnJwc9erVS4cOHdLcuXP1m9/8Rtu3b1eHDh1q9G9p91qSVqxYoZKSEk2YMKHOPi3hXp/o+D1ryP08nZ8PdTljwtGsWbP08MMP19tn586dJ12s1xKczt/FgQMH9P7772v58uUnPb+9juqiiy5S165dNXz4cO3evVs9e/Y8/cJ/oYbMOzMz09fWr18/hYaG6vbbb1d2dvYZ911Ep3O/Dx48qBEjRui6667T5MmT6x3bXO83ajd16lRt37693rU3kpSSkqKUlBTffmpqqnr37q1nn31W8+fPb+oyG8XIkSN9f+7Xr5+Sk5OVkJCg5cuXa9KkSUGsLHCWLFmikSNH1vvl6i3hXjc3Z0w4mjlzZr3JWZJ69OhxSueKjY2tsXr9+G8lxcbG1jnmxAVdlZWVOnLkSJ1jmsrp/F0sXbpUXbp00dVXX93g6yUnJ0v6+UlEMF8sf8m/geTkZFVWVmrv3r3q1atXjeOxsbEqLy9XSUmJ39Oj4uLigN/fEzV03t98842GDRum1NRUPffccw2+XnO537WJjIxUq1atavwWYX33KTY2tkH9m7Np06b5fhmkoU8E2rRpo4EDB6qgoKCJqmt6HTt21AUXXFDnHFrSvZakffv26YMPPmjwU9yWcK+P37Pi4mJ17drV115cXKwBAwbUOuZ0fj7UqUErlM4wJ1uQXVxc7Gt79tlnTUREhPnpp59qPdfxBdlbtmzxtb3//vtnxILs6upqk5iYaGbOnHla49evX28kmc8//7yRKwucZcuWmZCQEHPkyJFajx9fkP3666/72nbt2nXGLcg+cOCAOf/88831119vKisrT+sczf1+Dx482EybNs23X1VVZc4555x6F2RfeeWVfm0pKSln1CLd6upqM3XqVBMXF2f+/e9/n9Y5KisrTa9evcxdd93VyNUFztGjR02nTp3M3//+91qPt4R7bZszZ46JjY01FRUVDRp3Jt5r1bEge8GCBb42t9t9SguyG/Lzoc56GtT7DLFv3z6zdetWM3fuXBMeHm62bt1qtm7dao4ePWqM+fkfTt++fc0VV1xhtm3bZlatWmWioqJMVlaW7xybNm0yvXr1MgcOHPC1jRgxwgwcONBs2rTJrF+/3px//vkmIyMj4PNrqA8++MBIMjt37qxx7MCBA6ZXr15m06ZNxhhjCgoKzLx588yWLVvMnj17zFtvvWV69OhhLr/88kCXfdo2bNhgnnjiCbNt2zaze/dus2zZMhMVFWXGjRvn63PivI0x5o477jDdunUzH374odmyZYtJSUkxKSkpwZjCaTlw4IA577zzzPDhw82BAwfMoUOHfJvd50y/36+88opxOp0mJyfHfPXVV+a2224zHTt29P326c0332xmzZrl6//JJ5+Y1q1bmwULFpidO3eaOXPmmDZt2pgvv/wyWFNosClTphiXy2XWrVvnd1+PHTvm63PivOfOnWvef/99s3v3bpOXl2euv/56ExYWZnbs2BGMKZyWmTNnmnXr1pk9e/aYTz75xKSlpZnIyEhz+PBhY0zLvNfHVVVVmW7dupl77rmnxrGWcq+PHj3qe32WZB5//HGzdetWs2/fPmOMMQ899JDp2LGjeeutt8wXX3xhrrnmGpOYmGh+/PFH3zl++9vfmqeeesq3f7KfD6eqRYaj8ePHG0k1trVr1/r67N2714wcOdK0bdvWREZGmpkzZ/ql87Vr1xpJZs+ePb6277//3mRkZJjw8HATERFhJk6c6AtczVlGRoZJTU2t9diePXv8/m4KCwvN5Zdfbjp37mycTqc577zzzN13323cbncAK/5l8vLyTHJysnG5XCYsLMz07t3b/O1vf/N7KnjivI0x5scffzT/8R//YTp16mTatWtnrr32Wr9g0dwtXbq01n/39gPilnK/n3rqKdOtWzcTGhpqBg8ebDZu3Og7NmTIEDN+/Hi//suXLzcXXHCBCQ0NNRdeeKH517/+FeCKf5m67uvSpUt9fU6c94wZM3x/RzExMeb3v/+9+eyzzwJf/C8wduxY07VrVxMaGmrOOeccM3bsWFNQUOA73hLv9XHvv/++kWTy8/NrHGsp9/r46+yJ2/G5VVdXm/vvv9/ExMQYp9Nphg8fXuPvIyEhwcyZM8evrb6fD6fKYYwxDXsjDgAAoOU6Kz/nCAAAoC6EIwAAAAvhCAAAwEI4AgAAsBCOAAAALIQjAAAAC+EIAADAQjgCAACwEI4AAAAshCMAAAAL4QgAAMDy/wHn8kqTEY6TwwAAAABJRU5ErkJggg==\n"
                },
                "metadata": {}
              }
            ]
          }
        },
        "c70181848cb5499cb326a30441c19fd1": {
          "model_module": "@jupyter-widgets/base",
          "model_name": "LayoutModel",
          "model_module_version": "1.2.0",
          "state": {
            "_model_module": "@jupyter-widgets/base",
            "_model_module_version": "1.2.0",
            "_model_name": "LayoutModel",
            "_view_count": null,
            "_view_module": "@jupyter-widgets/base",
            "_view_module_version": "1.2.0",
            "_view_name": "LayoutView",
            "align_content": null,
            "align_items": null,
            "align_self": null,
            "border": null,
            "bottom": null,
            "display": null,
            "flex": null,
            "flex_flow": null,
            "grid_area": null,
            "grid_auto_columns": null,
            "grid_auto_flow": null,
            "grid_auto_rows": null,
            "grid_column": null,
            "grid_gap": null,
            "grid_row": null,
            "grid_template_areas": null,
            "grid_template_columns": null,
            "grid_template_rows": null,
            "height": null,
            "justify_content": null,
            "justify_items": null,
            "left": null,
            "margin": null,
            "max_height": null,
            "max_width": null,
            "min_height": null,
            "min_width": null,
            "object_fit": null,
            "object_position": null,
            "order": null,
            "overflow": null,
            "overflow_x": null,
            "overflow_y": null,
            "padding": null,
            "right": null,
            "top": null,
            "visibility": null,
            "width": null
          }
        },
        "34c6abe72635421ca920d20242cb70b0": {
          "model_module": "@jupyter-widgets/base",
          "model_name": "LayoutModel",
          "model_module_version": "1.2.0",
          "state": {
            "_model_module": "@jupyter-widgets/base",
            "_model_module_version": "1.2.0",
            "_model_name": "LayoutModel",
            "_view_count": null,
            "_view_module": "@jupyter-widgets/base",
            "_view_module_version": "1.2.0",
            "_view_name": "LayoutView",
            "align_content": null,
            "align_items": null,
            "align_self": null,
            "border": null,
            "bottom": null,
            "display": null,
            "flex": null,
            "flex_flow": null,
            "grid_area": null,
            "grid_auto_columns": null,
            "grid_auto_flow": null,
            "grid_auto_rows": null,
            "grid_column": null,
            "grid_gap": null,
            "grid_row": null,
            "grid_template_areas": null,
            "grid_template_columns": null,
            "grid_template_rows": null,
            "height": null,
            "justify_content": null,
            "justify_items": null,
            "left": null,
            "margin": null,
            "max_height": null,
            "max_width": null,
            "min_height": null,
            "min_width": null,
            "object_fit": null,
            "object_position": null,
            "order": null,
            "overflow": null,
            "overflow_x": null,
            "overflow_y": null,
            "padding": null,
            "right": null,
            "top": null,
            "visibility": null,
            "width": null
          }
        },
        "55815d4da9864f36b8dcacacbd21f0c6": {
          "model_module": "@jupyter-widgets/controls",
          "model_name": "SliderStyleModel",
          "model_module_version": "1.5.0",
          "state": {
            "_model_module": "@jupyter-widgets/controls",
            "_model_module_version": "1.5.0",
            "_model_name": "SliderStyleModel",
            "_view_count": null,
            "_view_module": "@jupyter-widgets/base",
            "_view_module_version": "1.2.0",
            "_view_name": "StyleView",
            "description_width": "",
            "handle_color": null
          }
        },
        "903243f3b03a454594a1a0b5b34ae5c9": {
          "model_module": "@jupyter-widgets/base",
          "model_name": "LayoutModel",
          "model_module_version": "1.2.0",
          "state": {
            "_model_module": "@jupyter-widgets/base",
            "_model_module_version": "1.2.0",
            "_model_name": "LayoutModel",
            "_view_count": null,
            "_view_module": "@jupyter-widgets/base",
            "_view_module_version": "1.2.0",
            "_view_name": "LayoutView",
            "align_content": null,
            "align_items": null,
            "align_self": null,
            "border": null,
            "bottom": null,
            "display": null,
            "flex": null,
            "flex_flow": null,
            "grid_area": null,
            "grid_auto_columns": null,
            "grid_auto_flow": null,
            "grid_auto_rows": null,
            "grid_column": null,
            "grid_gap": null,
            "grid_row": null,
            "grid_template_areas": null,
            "grid_template_columns": null,
            "grid_template_rows": null,
            "height": null,
            "justify_content": null,
            "justify_items": null,
            "left": null,
            "margin": null,
            "max_height": null,
            "max_width": null,
            "min_height": null,
            "min_width": null,
            "object_fit": null,
            "object_position": null,
            "order": null,
            "overflow": null,
            "overflow_x": null,
            "overflow_y": null,
            "padding": null,
            "right": null,
            "top": null,
            "visibility": null,
            "width": null
          }
        },
        "5e08d4b63290438495ba7d83d7ad732c": {
          "model_module": "@jupyter-widgets/controls",
          "model_name": "SliderStyleModel",
          "model_module_version": "1.5.0",
          "state": {
            "_model_module": "@jupyter-widgets/controls",
            "_model_module_version": "1.5.0",
            "_model_name": "SliderStyleModel",
            "_view_count": null,
            "_view_module": "@jupyter-widgets/base",
            "_view_module_version": "1.2.0",
            "_view_name": "StyleView",
            "description_width": "",
            "handle_color": null
          }
        },
        "37d9dde08f8d4afbbc0cee3a5a2e3777": {
          "model_module": "@jupyter-widgets/base",
          "model_name": "LayoutModel",
          "model_module_version": "1.2.0",
          "state": {
            "_model_module": "@jupyter-widgets/base",
            "_model_module_version": "1.2.0",
            "_model_name": "LayoutModel",
            "_view_count": null,
            "_view_module": "@jupyter-widgets/base",
            "_view_module_version": "1.2.0",
            "_view_name": "LayoutView",
            "align_content": null,
            "align_items": null,
            "align_self": null,
            "border": null,
            "bottom": null,
            "display": null,
            "flex": null,
            "flex_flow": null,
            "grid_area": null,
            "grid_auto_columns": null,
            "grid_auto_flow": null,
            "grid_auto_rows": null,
            "grid_column": null,
            "grid_gap": null,
            "grid_row": null,
            "grid_template_areas": null,
            "grid_template_columns": null,
            "grid_template_rows": null,
            "height": null,
            "justify_content": null,
            "justify_items": null,
            "left": null,
            "margin": null,
            "max_height": null,
            "max_width": null,
            "min_height": null,
            "min_width": null,
            "object_fit": null,
            "object_position": null,
            "order": null,
            "overflow": null,
            "overflow_x": null,
            "overflow_y": null,
            "padding": null,
            "right": null,
            "top": null,
            "visibility": null,
            "width": null
          }
        },
        "ff1f2e9ae8a44353becb4c025efe3d9c": {
          "model_module": "@jupyter-widgets/controls",
          "model_name": "VBoxModel",
          "model_module_version": "1.5.0",
          "state": {
            "_dom_classes": [
              "widget-interact"
            ],
            "_model_module": "@jupyter-widgets/controls",
            "_model_module_version": "1.5.0",
            "_model_name": "VBoxModel",
            "_view_count": null,
            "_view_module": "@jupyter-widgets/controls",
            "_view_module_version": "1.5.0",
            "_view_name": "VBoxView",
            "box_style": "",
            "children": [
              "IPY_MODEL_df0dc9e4129e4d7dac3e2c5a29274245",
              "IPY_MODEL_ab5d991094db44fbb3b90823e2a3d943",
              "IPY_MODEL_bcb35492828949ea9bdcdc894d097819"
            ],
            "layout": "IPY_MODEL_cf3c87376eb0467981b3cfab64115cde"
          }
        },
        "df0dc9e4129e4d7dac3e2c5a29274245": {
          "model_module": "@jupyter-widgets/controls",
          "model_name": "IntSliderModel",
          "model_module_version": "1.5.0",
          "state": {
            "_dom_classes": [],
            "_model_module": "@jupyter-widgets/controls",
            "_model_module_version": "1.5.0",
            "_model_name": "IntSliderModel",
            "_view_count": null,
            "_view_module": "@jupyter-widgets/controls",
            "_view_module_version": "1.5.0",
            "_view_name": "IntSliderView",
            "continuous_update": true,
            "description": "a",
            "description_tooltip": null,
            "disabled": false,
            "layout": "IPY_MODEL_4bbe4c9ed66549808cee319798894b6c",
            "max": 9,
            "min": -9,
            "orientation": "horizontal",
            "readout": true,
            "readout_format": "d",
            "step": 1,
            "style": "IPY_MODEL_e61abee53cea4a238b5b1cdf4e63666c",
            "value": 0
          }
        },
        "ab5d991094db44fbb3b90823e2a3d943": {
          "model_module": "@jupyter-widgets/controls",
          "model_name": "IntSliderModel",
          "model_module_version": "1.5.0",
          "state": {
            "_dom_classes": [],
            "_model_module": "@jupyter-widgets/controls",
            "_model_module_version": "1.5.0",
            "_model_name": "IntSliderModel",
            "_view_count": null,
            "_view_module": "@jupyter-widgets/controls",
            "_view_module_version": "1.5.0",
            "_view_name": "IntSliderView",
            "continuous_update": true,
            "description": "b",
            "description_tooltip": null,
            "disabled": false,
            "layout": "IPY_MODEL_f6c889de5fac4b3ba7c76b8eb7df3bd4",
            "max": 9,
            "min": -9,
            "orientation": "horizontal",
            "readout": true,
            "readout_format": "d",
            "step": 1,
            "style": "IPY_MODEL_9f10e1d8918c411b8f0ccfc2a5df9e8b",
            "value": 0
          }
        },
        "bcb35492828949ea9bdcdc894d097819": {
          "model_module": "@jupyter-widgets/output",
          "model_name": "OutputModel",
          "model_module_version": "1.0.0",
          "state": {
            "_dom_classes": [],
            "_model_module": "@jupyter-widgets/output",
            "_model_module_version": "1.0.0",
            "_model_name": "OutputModel",
            "_view_count": null,
            "_view_module": "@jupyter-widgets/output",
            "_view_module_version": "1.0.0",
            "_view_name": "OutputView",
            "layout": "IPY_MODEL_a0c287d762a946e89a2b2052fa61ca41",
            "msg_id": "",
            "outputs": [
              {
                "output_type": "display_data",
                "data": {
                  "text/plain": "<Figure size 640x480 with 1 Axes>",
                  "image/png": "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\n"
                },
                "metadata": {}
              }
            ]
          }
        },
        "cf3c87376eb0467981b3cfab64115cde": {
          "model_module": "@jupyter-widgets/base",
          "model_name": "LayoutModel",
          "model_module_version": "1.2.0",
          "state": {
            "_model_module": "@jupyter-widgets/base",
            "_model_module_version": "1.2.0",
            "_model_name": "LayoutModel",
            "_view_count": null,
            "_view_module": "@jupyter-widgets/base",
            "_view_module_version": "1.2.0",
            "_view_name": "LayoutView",
            "align_content": null,
            "align_items": null,
            "align_self": null,
            "border": null,
            "bottom": null,
            "display": null,
            "flex": null,
            "flex_flow": null,
            "grid_area": null,
            "grid_auto_columns": null,
            "grid_auto_flow": null,
            "grid_auto_rows": null,
            "grid_column": null,
            "grid_gap": null,
            "grid_row": null,
            "grid_template_areas": null,
            "grid_template_columns": null,
            "grid_template_rows": null,
            "height": null,
            "justify_content": null,
            "justify_items": null,
            "left": null,
            "margin": null,
            "max_height": null,
            "max_width": null,
            "min_height": null,
            "min_width": null,
            "object_fit": null,
            "object_position": null,
            "order": null,
            "overflow": null,
            "overflow_x": null,
            "overflow_y": null,
            "padding": null,
            "right": null,
            "top": null,
            "visibility": null,
            "width": null
          }
        },
        "4bbe4c9ed66549808cee319798894b6c": {
          "model_module": "@jupyter-widgets/base",
          "model_name": "LayoutModel",
          "model_module_version": "1.2.0",
          "state": {
            "_model_module": "@jupyter-widgets/base",
            "_model_module_version": "1.2.0",
            "_model_name": "LayoutModel",
            "_view_count": null,
            "_view_module": "@jupyter-widgets/base",
            "_view_module_version": "1.2.0",
            "_view_name": "LayoutView",
            "align_content": null,
            "align_items": null,
            "align_self": null,
            "border": null,
            "bottom": null,
            "display": null,
            "flex": null,
            "flex_flow": null,
            "grid_area": null,
            "grid_auto_columns": null,
            "grid_auto_flow": null,
            "grid_auto_rows": null,
            "grid_column": null,
            "grid_gap": null,
            "grid_row": null,
            "grid_template_areas": null,
            "grid_template_columns": null,
            "grid_template_rows": null,
            "height": null,
            "justify_content": null,
            "justify_items": null,
            "left": null,
            "margin": null,
            "max_height": null,
            "max_width": null,
            "min_height": null,
            "min_width": null,
            "object_fit": null,
            "object_position": null,
            "order": null,
            "overflow": null,
            "overflow_x": null,
            "overflow_y": null,
            "padding": null,
            "right": null,
            "top": null,
            "visibility": null,
            "width": null
          }
        },
        "e61abee53cea4a238b5b1cdf4e63666c": {
          "model_module": "@jupyter-widgets/controls",
          "model_name": "SliderStyleModel",
          "model_module_version": "1.5.0",
          "state": {
            "_model_module": "@jupyter-widgets/controls",
            "_model_module_version": "1.5.0",
            "_model_name": "SliderStyleModel",
            "_view_count": null,
            "_view_module": "@jupyter-widgets/base",
            "_view_module_version": "1.2.0",
            "_view_name": "StyleView",
            "description_width": "",
            "handle_color": null
          }
        },
        "f6c889de5fac4b3ba7c76b8eb7df3bd4": {
          "model_module": "@jupyter-widgets/base",
          "model_name": "LayoutModel",
          "model_module_version": "1.2.0",
          "state": {
            "_model_module": "@jupyter-widgets/base",
            "_model_module_version": "1.2.0",
            "_model_name": "LayoutModel",
            "_view_count": null,
            "_view_module": "@jupyter-widgets/base",
            "_view_module_version": "1.2.0",
            "_view_name": "LayoutView",
            "align_content": null,
            "align_items": null,
            "align_self": null,
            "border": null,
            "bottom": null,
            "display": null,
            "flex": null,
            "flex_flow": null,
            "grid_area": null,
            "grid_auto_columns": null,
            "grid_auto_flow": null,
            "grid_auto_rows": null,
            "grid_column": null,
            "grid_gap": null,
            "grid_row": null,
            "grid_template_areas": null,
            "grid_template_columns": null,
            "grid_template_rows": null,
            "height": null,
            "justify_content": null,
            "justify_items": null,
            "left": null,
            "margin": null,
            "max_height": null,
            "max_width": null,
            "min_height": null,
            "min_width": null,
            "object_fit": null,
            "object_position": null,
            "order": null,
            "overflow": null,
            "overflow_x": null,
            "overflow_y": null,
            "padding": null,
            "right": null,
            "top": null,
            "visibility": null,
            "width": null
          }
        },
        "9f10e1d8918c411b8f0ccfc2a5df9e8b": {
          "model_module": "@jupyter-widgets/controls",
          "model_name": "SliderStyleModel",
          "model_module_version": "1.5.0",
          "state": {
            "_model_module": "@jupyter-widgets/controls",
            "_model_module_version": "1.5.0",
            "_model_name": "SliderStyleModel",
            "_view_count": null,
            "_view_module": "@jupyter-widgets/base",
            "_view_module_version": "1.2.0",
            "_view_name": "StyleView",
            "description_width": "",
            "handle_color": null
          }
        },
        "a0c287d762a946e89a2b2052fa61ca41": {
          "model_module": "@jupyter-widgets/base",
          "model_name": "LayoutModel",
          "model_module_version": "1.2.0",
          "state": {
            "_model_module": "@jupyter-widgets/base",
            "_model_module_version": "1.2.0",
            "_model_name": "LayoutModel",
            "_view_count": null,
            "_view_module": "@jupyter-widgets/base",
            "_view_module_version": "1.2.0",
            "_view_name": "LayoutView",
            "align_content": null,
            "align_items": null,
            "align_self": null,
            "border": null,
            "bottom": null,
            "display": null,
            "flex": null,
            "flex_flow": null,
            "grid_area": null,
            "grid_auto_columns": null,
            "grid_auto_flow": null,
            "grid_auto_rows": null,
            "grid_column": null,
            "grid_gap": null,
            "grid_row": null,
            "grid_template_areas": null,
            "grid_template_columns": null,
            "grid_template_rows": null,
            "height": null,
            "justify_content": null,
            "justify_items": null,
            "left": null,
            "margin": null,
            "max_height": null,
            "max_width": null,
            "min_height": null,
            "min_width": null,
            "object_fit": null,
            "object_position": null,
            "order": null,
            "overflow": null,
            "overflow_x": null,
            "overflow_y": null,
            "padding": null,
            "right": null,
            "top": null,
            "visibility": null,
            "width": null
          }
        }
      }
    }
  },
  "cells": [
    {
      "cell_type": "markdown",
      "metadata": {
        "id": "view-in-github",
        "colab_type": "text"
      },
      "source": [
        "<a href=\"https://colab.research.google.com/github/YR-hub/API/blob/main/Foundational_Math_2_(Learn).ipynb\" target=\"_parent\"><img src=\"https://colab.research.google.com/assets/colab-badge.svg\" alt=\"Open In Colab\"/></a>"
      ]
    },
    {
      "cell_type": "markdown",
      "metadata": {
        "id": "EsfO5Q92tL-6"
      },
      "source": [
        "[![freeCodeCamp](https://cdn.freecodecamp.org/testable-projects-fcc/images/fcc_secondary.svg)](https://freecodecamp.org/)"
      ]
    },
    {
      "cell_type": "markdown",
      "metadata": {
        "id": "7ECUmRBSGOb4"
      },
      "source": [
        "**Learn Foundational Math 2 by Building Cartesian Graphs**<br>\n",
        "Each of these steps will lead you toward the Certification Project. Once you complete a step, click to expand the next step."
      ]
    },
    {
      "cell_type": "markdown",
      "metadata": {
        "id": "szp5flp1fA8-"
      },
      "source": [
        "# &darr; **Do this first** &darr;\n",
        "Copy this notebook to your own account by clicking the `File` button at the top, and then click `Save a copy in Drive`. You will need to be logged in to Google. The file will be in a folder called \"Colab Notebooks\" in your Google Drive."
      ]
    },
    {
      "cell_type": "markdown",
      "source": [
        "# Step 0 - Acquire the testing library"
      ],
      "metadata": {
        "id": "iNcDJ45bGtYk"
      }
    },
    {
      "cell_type": "markdown",
      "source": [
        "Please run this code to get the library file from FreeCodeCamp. Each step will use this library to test your code. You do not need to edit anything; just run this code cell and wait a few seconds until it tells you to go on to the next step."
      ],
      "metadata": {
        "id": "2_U7sdv4zaww"
      }
    },
    {
      "cell_type": "code",
      "source": [
        "# You may need to run this cell at the beginning of each new session\n",
        "\n",
        "!pip install requests\n",
        "\n",
        "# This will just take a few seconds\n",
        "\n",
        "import requests\n",
        "\n",
        "# Get the library from GitHub\n",
        "url = 'https://raw.githubusercontent.com/edatfreecodecamp/python-math/main/math-code-test-b.py'\n",
        "r = requests.get(url)\n",
        "\n",
        "# Save the library in a local working directory\n",
        "with open('math_code_test_b.py', 'w') as f:\n",
        "    f.write(r.text)\n",
        "\n",
        "# Now you can import the library\n",
        "import math_code_test_b as test\n",
        "\n",
        "# This will tell you if the code works\n",
        "test.step01()"
      ],
      "metadata": {
        "id": "aDuDRHETG3Oy",
        "outputId": "015c92b7-d403-4bc3-f052-ad819697840d",
        "colab": {
          "base_uri": "https://localhost:8080/"
        }
      },
      "execution_count": 1,
      "outputs": [
        {
          "output_type": "stream",
          "name": "stdout",
          "text": [
            "Looking in indexes: https://pypi.org/simple, https://us-python.pkg.dev/colab-wheels/public/simple/\n",
            "Requirement already satisfied: requests in /usr/local/lib/python3.10/dist-packages (2.27.1)\n",
            "Requirement already satisfied: urllib3<1.27,>=1.21.1 in /usr/local/lib/python3.10/dist-packages (from requests) (1.26.15)\n",
            "Requirement already satisfied: certifi>=2017.4.17 in /usr/local/lib/python3.10/dist-packages (from requests) (2022.12.7)\n",
            "Requirement already satisfied: charset-normalizer~=2.0.0 in /usr/local/lib/python3.10/dist-packages (from requests) (2.0.12)\n",
            "Requirement already satisfied: idna<4,>=2.5 in /usr/local/lib/python3.10/dist-packages (from requests) (3.4)\n",
            "Code test Passed\n",
            "Go on to the next step\n"
          ]
        }
      ]
    },
    {
      "cell_type": "markdown",
      "metadata": {
        "id": "ZWDxpIPUFfda"
      },
      "source": [
        "# Step 1 - Cartesian Coordinates"
      ]
    },
    {
      "cell_type": "markdown",
      "metadata": {
        "id": "eTWzFpChFltm"
      },
      "source": [
        "Learn Cartesian coordinates by building a scatterplot game. The Cartesian plane is the classic x-y coordinate grid (invented by Ren$\\acute{e}$ DesCartes) where \"<i>x</i>\" is the horizontal axis and \"<i>y</i>\" is the vertical axis. Each (x,y) coordinate pair is a point on the graph. The point (0,0) is the \"origin.\" The x value tells how much to move right (positive) or left (negaive) from the origin. The y value tells you how much you move up (positive) or down (negative) from the origin. Notice that you are importing `matplotlib` to create the graph. The following code just displays one quadrant of the Cartesian graph. Just run this code to see how Python displays a graph.\n"
      ]
    },
    {
      "cell_type": "code",
      "metadata": {
        "id": "OGdjnZw0Fmf7",
        "outputId": "f54f1723-4fc5-4058-83b0-fafa438b9c9d",
        "colab": {
          "base_uri": "https://localhost:8080/",
          "height": 470
        }
      },
      "source": [
        "import matplotlib.pyplot as plt\n",
        "\n",
        "fig, ax = plt.subplots()\n",
        "plt.show()\n",
        "\n",
        "# Just run this code to see a blank graph\n",
        "import math_code_test_b as test\n",
        "test.step01()"
      ],
      "execution_count": 2,
      "outputs": [
        {
          "output_type": "display_data",
          "data": {
            "text/plain": [
              "<Figure size 640x480 with 1 Axes>"
            ],
            "image/png": "[encoded data removed]"
          },
          "metadata": {}
        },
        {
          "output_type": "stream",
          "name": "stdout",
          "text": [
            "Code test Passed\n",
            "Go on to the next step\n"
          ]
        }
      ]
    },
    {
      "cell_type": "markdown",
      "metadata": {
        "id": "i1mBd8gGFvBV"
      },
      "source": [
        "# Step 2 - Cartesian Coordinates (Part 2)"
      ]
    },
    {
      "cell_type": "markdown",
      "metadata": {
        "id": "aylg20IGFvBW"
      },
      "source": [
        "Here you will create a standard window but still not highlight each axis. Run this code once, then change the window size to 20 in each direction and run it again."
      ]
    },
    {
      "cell_type": "code",
      "metadata": {
        "id": "EKfFo4_EFvBX",
        "outputId": "22051094-9f16-4987-b3b7-c6182712e6ca",
        "colab": {
          "base_uri": "https://localhost:8080/",
          "height": 470
        }
      },
      "source": [
        "import matplotlib.pyplot as plt\n",
        "\n",
        "fig, ax = plt.subplots()\n",
        "\n",
        "# Only change the numbers in the next line:\n",
        "plt.axis([-10,10,-10,10])\n",
        "\n",
        "plt.show()\n",
        "\n",
        "\n",
        "# Only change code above this line\n",
        "import math_code_test_b as test\n",
        "test.step02(In[-1].split('# Only change code above this line')[0])"
      ],
      "execution_count": 3,
      "outputs": [
        {
          "output_type": "display_data",
          "data": {
            "text/plain": [
              "<Figure size 640x480 with 1 Axes>"
            ],
            "image/png": "[encoded data removed]"
          },
          "metadata": {}
        },
        {
          "output_type": "stream",
          "name": "stdout",
          "text": [
            " \n",
            "Now change the values in plt.axis() and re-run the code.\n"
          ]
        }
      ]
    },
    {
      "cell_type": "markdown",
      "source": [
        "# Step 3 - Graph Dimensions"
      ],
      "metadata": {
        "id": "MYQL57cD2ejS"
      }
    },
    {
      "cell_type": "markdown",
      "source": [
        "When you look at this code, you can see how Python sets up window dimensions. You will also notice that it is easier and more organized to define the dimensions as variables. Run the code, then change just the `xmax` value to 20 and run it again to see the difference."
      ],
      "metadata": {
        "id": "b2k229tOz9YQ"
      }
    },
    {
      "cell_type": "code",
      "source": [
        "import matplotlib.pyplot as plt\n",
        "\n",
        "xmin = -10\n",
        "xmax = 10\n",
        "ymin = -10\n",
        "ymax = 10\n",
        "\n",
        "fig, ax = plt.subplots()\n",
        "plt.axis([xmin,xmax,ymin,ymax]) # window size\n",
        "plt.show()\n",
        "\n",
        "# Only change code above this line\n",
        "import math_code_test_b as test\n",
        "test.step03(In[-1].split('# Only change code above this line')[0])"
      ],
      "metadata": {
        "id": "uXvHo-5a2Zi_",
        "outputId": "943b9f69-84ae-48d2-cc79-0bb82ea82211",
        "colab": {
          "base_uri": "https://localhost:8080/",
          "height": 470
        }
      },
      "execution_count": 4,
      "outputs": [
        {
          "output_type": "display_data",
          "data": {
            "text/plain": [
              "<Figure size 640x480 with 1 Axes>"
            ],
            "image/png": "[encoded data removed]"
          },
          "metadata": {}
        },
        {
          "output_type": "stream",
          "name": "stdout",
          "text": [
            " \n",
            "Now change the values xmax to 20 and re-run the code.\n"
          ]
        }
      ]
    },
    {
      "cell_type": "markdown",
      "source": [
        "# Step 4 - Displaying Axis Lines"
      ],
      "metadata": {
        "id": "jIHKROStFMcR"
      }
    },
    {
      "cell_type": "markdown",
      "source": [
        "Notice the code to `plot` a line for the x axis and a line for the y axis. The `'b'` makes the line blue. Run the code, then change each 'b' to 'g' to make the lines green."
      ],
      "metadata": {
        "id": "NhrHvY1YEndp"
      }
    },
    {
      "cell_type": "code",
      "source": [
        "import matplotlib.pyplot as plt\n",
        "\n",
        "xmin = -10\n",
        "xmax = 10\n",
        "ymin = -10\n",
        "ymax = 10\n",
        "\n",
        "fig, ax = plt.subplots()\n",
        "plt.axis([xmin,xmax,ymin,ymax]) # window size\n",
        "plt.plot([xmin,xmax],[0,0],'b') # blue x axis\n",
        "plt.plot([0,0],[ymin,ymax], 'b') # blue y axis\n",
        "\n",
        "plt.show()\n",
        "\n",
        "# Only change code above this line\n",
        "import math_code_test_b as test\n",
        "test.step04(In[-1].split('# Only change code above this line')[0])"
      ],
      "metadata": {
        "id": "mgWhRLtwFGOd",
        "outputId": "f74def05-7abd-4d92-a1a6-a66e9156e928",
        "colab": {
          "base_uri": "https://localhost:8080/",
          "height": 487
        }
      },
      "execution_count": 5,
      "outputs": [
        {
          "output_type": "display_data",
          "data": {
            "text/plain": [
              "<Figure size 640x480 with 1 Axes>"
            ],
            "image/png": "[encoded data removed]"
          },
          "metadata": {}
        },
        {
          "output_type": "stream",
          "name": "stdout",
          "text": [
            " \n",
            "Now change the 'b' to 'g' for each axis and re-run the code.\n",
            "Now change the 'b' to 'g' for each axis and re-run the code.\n"
          ]
        }
      ]
    },
    {
      "cell_type": "markdown",
      "metadata": {
        "id": "wLDO_IRrFw7z"
      },
      "source": [
        "# Step 5 - Plotting a Point"
      ]
    },
    {
      "cell_type": "markdown",
      "metadata": {
        "id": "iOZ8TJISFw71"
      },
      "source": [
        "Now you will plot a point on the graph. Notice the `'ro'` makes the point a red dot. Run the code, then change the location of the point to (-5,1) and run it again. Keep the window size the same. Notice the difference between plotting a point and plotting a line."
      ]
    },
    {
      "cell_type": "code",
      "metadata": {
        "id": "N09NlV3DFw71",
        "outputId": "e8247bba-0522-48b1-88ec-67808abf03df",
        "colab": {
          "base_uri": "https://localhost:8080/",
          "height": 470
        }
      },
      "source": [
        "import matplotlib.pyplot as plt\n",
        "\n",
        "xmin = -10\n",
        "xmax = 10\n",
        "ymin = -10\n",
        "ymax = 10\n",
        "\n",
        "fig, ax = plt.subplots()\n",
        "plt.axis([xmin,xmax,ymin,ymax]) # window size\n",
        "plt.plot([xmin,xmax],[0,0],'b') # blue x axis\n",
        "plt.plot([0,0],[ymin,ymax], 'b') # blue y axis\n",
        "\n",
        "# Change only the numbers in the following line:\n",
        "plt.plot([5],[4], 'ro')\n",
        "\n",
        "plt.show()\n",
        "\n",
        "\n",
        "# Only change code above this line\n",
        "import math_code_test_b as test\n",
        "test.step05(In[-1].split('# Only change code above this line')[0])"
      ],
      "execution_count": 6,
      "outputs": [
        {
          "output_type": "display_data",
          "data": {
            "text/plain": [
              "<Figure size 640x480 with 1 Axes>"
            ],
            "image/png": "[encoded data removed]"
          },
          "metadata": {}
        },
        {
          "output_type": "stream",
          "name": "stdout",
          "text": [
            " \n",
            "You should use plt.plot([-5],[1], 'ro') in your code\n"
          ]
        }
      ]
    },
    {
      "cell_type": "markdown",
      "metadata": {
        "id": "ExVB2joZF0rk"
      },
      "source": [
        "# Step 6 - Plotting Several Points"
      ]
    },
    {
      "cell_type": "markdown",
      "metadata": {
        "id": "G48kO0jcF0rl"
      },
      "source": [
        "You have actually been using arrays to plot each singular point so far. In this step, you will see an array of x values and an array of y values defined before the plot statement. Notice that these two short arrays create one point: (4,2). Add two numbers to each array so that it also plots points (1,1) and (2,5)."
      ]
    },
    {
      "cell_type": "code",
      "metadata": {
        "id": "YkRIMNimF0rm",
        "outputId": "36745173-2c79-4689-8e16-ad9aad24fb7a",
        "colab": {
          "base_uri": "https://localhost:8080/",
          "height": 487
        }
      },
      "source": [
        "import matplotlib.pyplot as plt\n",
        "\n",
        "# only change the next two lines:\n",
        "x = [4]\n",
        "y = [2]\n",
        "\n",
        "# Only change code above this line\n",
        "\n",
        "xmin = -10\n",
        "xmax = 10\n",
        "ymin = -10\n",
        "ymax = 10\n",
        "\n",
        "fig, ax = plt.subplots()\n",
        "plt.axis([xmin,xmax,ymin,ymax]) # window size\n",
        "plt.plot([xmin,xmax],[0,0],'b') # blue x axis\n",
        "plt.plot([0,0],[ymin,ymax],'b') # blue y axis\n",
        "\n",
        "plt.plot(x, y, 'ro') # red points\n",
        "plt.show()\n",
        "\n",
        "\n",
        "# Only change code above this line\n",
        "import math_code_test_b as test\n",
        "test.step06(In[-1].split('# Only change code above this line')[0])"
      ],
      "execution_count": 7,
      "outputs": [
        {
          "output_type": "display_data",
          "data": {
            "text/plain": [
              "<Figure size 640x480 with 1 Axes>"
            ],
            "image/png": "[encoded data removed]"
          },
          "metadata": {}
        },
        {
          "output_type": "stream",
          "name": "stdout",
          "text": [
            " \n",
            "You should use x = [4,1,2] in your code\n",
            "You should use y = [2,1,5] in your code\n"
          ]
        }
      ]
    },
    {
      "cell_type": "markdown",
      "metadata": {
        "id": "3MqIpFTOF1m9"
      },
      "source": [
        "# Step 7 - Plotting Points and Lines"
      ]
    },
    {
      "cell_type": "markdown",
      "metadata": {
        "id": "1O1_p4BqF1m-"
      },
      "source": [
        "Notice the subtle difference between plotting points and lines. Each `plot()` statement takes an array of x values, an array of y values, and a third argument to tell what you are plotting. The default plot is a line. The letters `'r'` and `'b'` (and `'g'` and a few others) indicate common colors. The \"o\" in `'ro'` indicates a dot, where `'rs'` would indicate a red square and `'r^'` would indicate a red triangle. Plot a red line and two green squares."
      ]
    },
    {
      "cell_type": "code",
      "metadata": {
        "id": "oMRcOD7hF1m-",
        "outputId": "66c734e2-3c66-45a0-f37e-ae8ce33a94bc",
        "colab": {
          "base_uri": "https://localhost:8080/",
          "height": 487
        }
      },
      "source": [
        "import matplotlib.pyplot as plt\n",
        "\n",
        "# Use these numbers:\n",
        "linex = [2,4]\n",
        "liney = [1,5]\n",
        "pointx = [1,6]\n",
        "pointy = [6,3]\n",
        "\n",
        "# Keep these lines:\n",
        "xmin = -10\n",
        "xmax = 10\n",
        "ymin = -10\n",
        "ymax = 10\n",
        "\n",
        "fig, ax = plt.subplots()\n",
        "plt.axis([xmin,xmax,ymin,ymax]) # window size\n",
        "plt.plot([xmin,xmax],[0,0],'b') # blue x axis\n",
        "plt.plot([0,0],[ymin,ymax], 'b') # blue y axis\n",
        "\n",
        "# Change the next two lines:\n",
        "plt.plot()\n",
        "plt.plot()\n",
        "\n",
        "plt.show()\n",
        "\n",
        "\n",
        "# Only change code above this line\n",
        "import math_code_test_b as test\n",
        "test.step07(In[-1].split('# Only change code above this line')[0])"
      ],
      "execution_count": 8,
      "outputs": [
        {
          "output_type": "display_data",
          "data": {
            "text/plain": [
              "<Figure size 640x480 with 1 Axes>"
            ],
            "image/png": "[encoded data removed]"
          },
          "metadata": {}
        },
        {
          "output_type": "stream",
          "name": "stdout",
          "text": [
            " \n",
            "You should use plt.plot(linex, liney, 'r') in your code\n",
            "You should use plt.plot(pointx, pointy, 'gs') in your code\n"
          ]
        }
      ]
    },
    {
      "cell_type": "markdown",
      "metadata": {
        "id": "NKq_qwCsF3Dj"
      },
      "source": [
        "# Step 8 - Making a Scatterplot Game"
      ]
    },
    {
      "cell_type": "markdown",
      "metadata": {
        "id": "sBh-rNyOF3Dk"
      },
      "source": [
        "To make the game, you can make a loop that plots a random point and asks the user to input the (x,y) coordinates. Notice the `for` loop that runs three rounds of the game. Run the code, play the game, then you can go on to the next step."
      ]
    },
    {
      "cell_type": "code",
      "metadata": {
        "id": "uR5TFWbLF3Dk",
        "outputId": "6efc3bff-d790-4a58-b746-e75043a2051b",
        "colab": {
          "base_uri": "https://localhost:8080/",
          "height": 1000
        }
      },
      "source": [
        "import matplotlib.pyplot as plt\n",
        "import random\n",
        "\n",
        "score = 0\n",
        "\n",
        "xmin = -8\n",
        "xmax = 8\n",
        "ymin = -8\n",
        "ymax = 8\n",
        "\n",
        "fig, ax = plt.subplots()\n",
        "\n",
        "for i in range(3):\n",
        "    xpoint = random.randint(xmin, xmax)\n",
        "    ypoint = random.randint(ymin, ymax)\n",
        "    x = [xpoint]\n",
        "    y = [ypoint]\n",
        "    plt.axis([xmin,xmax,ymin,ymax]) # window size\n",
        "    plt.plot([xmin,xmax],[0,0],'b') # blue x axis\n",
        "    plt.plot([0,0],[ymin,ymax], 'b') # blue y axis\n",
        "    plt.plot(x, y, 'ro')\n",
        "    print(\" \")\n",
        "    plt.grid() # displays grid lines on graph\n",
        "    plt.show()\n",
        "    guess = input(\"Enter the coordinates of the red point point: \\n\")\n",
        "    guess_array = guess.split(\",\")\n",
        "    xguess = int(guess_array[0])\n",
        "    yguess = int(guess_array[1])\n",
        "    if xguess == xpoint and yguess == ypoint:\n",
        "        score = score + 1\n",
        "\n",
        "print(\"Your score: \", score) # notice this is not in the loop\n",
        "\n",
        "\n",
        "# Only change code above this line\n",
        "import math_code_test_b as test\n",
        "test.step08(score)"
      ],
      "execution_count": 9,
      "outputs": [
        {
          "output_type": "stream",
          "name": "stdout",
          "text": [
            " \n"
          ]
        },
        {
          "output_type": "display_data",
          "data": {
            "text/plain": [
              "<Figure size 640x480 with 1 Axes>"
            ],
            "image/png": "[encoded data removed]"
          },
          "metadata": {}
        },
        {
          "output_type": "stream",
          "name": "stdout",
          "text": [
            "Enter the coordinates of the red point point: \n",
            "0,5\n",
            " \n"
          ]
        },
        {
          "output_type": "display_data",
          "data": {
            "text/plain": [
              "<Figure size 640x480 with 1 Axes>"
            ],
            "image/png": "[encoded data removed]"
          },
          "metadata": {}
        },
        {
          "output_type": "stream",
          "name": "stdout",
          "text": [
            "Enter the coordinates of the red point point: \n",
            "0,-3\n",
            " \n"
          ]
        },
        {
          "output_type": "display_data",
          "data": {
            "text/plain": [
              "<Figure size 640x480 with 1 Axes>"
            ],
            "image/png": "[encoded data removed]"
          },
          "metadata": {}
        },
        {
          "output_type": "stream",
          "name": "stdout",
          "text": [
            "Enter the coordinates of the red point point: \n",
            "3,-3\n",
            "Your score:  0\n",
            "You can go on to the next step\n"
          ]
        }
      ]
    },
    {
      "cell_type": "markdown",
      "metadata": {
        "id": "wvdngkOTF4Hi"
      },
      "source": [
        "# Step 9 - Graphing Linear Equations"
      ]
    },
    {
      "cell_type": "markdown",
      "metadata": {
        "id": "fTzBZAmtF4Hj"
      },
      "source": [
        "Besides graphing points, you can graph <i>linear equations</i> (or <i>functions</i>). The graph will be a straight line, and the equation will not have any exponents. For these graphs, you will import `numpy` and use the `linspace()` function to define the x values. That function takes three arguments: starting number, ending number, and number of steps. Notice the `plot()` function only has two arguments: the x values and a function (y = 2x - 3) for the y values. Run this code, then use the same x values to graph `y = -x + 3`."
      ]
    },
    {
      "cell_type": "code",
      "metadata": {
        "id": "xJ0pkcFsF4Hj",
        "outputId": "600ee3db-d87c-41cf-9abb-79756bd1b90c",
        "colab": {
          "base_uri": "https://localhost:8080/",
          "height": 470
        }
      },
      "source": [
        "import matplotlib.pyplot as plt\n",
        "import numpy as np\n",
        "\n",
        "xmin = -10\n",
        "xmax = 10\n",
        "ymin = -10\n",
        "ymax = 10\n",
        "\n",
        "fig, ax = plt.subplots()\n",
        "plt.axis([xmin,xmax,ymin,ymax]) # window size\n",
        "plt.plot([xmin,xmax],[0,0],'b') # blue x axis\n",
        "plt.plot([0,0],[ymin,ymax], 'b') # blue y axis\n",
        "\n",
        "x = np.linspace(-9,9,36)\n",
        "\n",
        "# Only change the next line to graph y = -x + 3\n",
        "plt.plot(x, 2*x - 3)\n",
        "\n",
        "\n",
        "\n",
        "plt.show()\n",
        "\n",
        "\n",
        "# Only change code above this line\n",
        "import math_code_test_b as test\n",
        "test.step09(In[-1].split('# Only change code above this line')[0])"
      ],
      "execution_count": 10,
      "outputs": [
        {
          "output_type": "display_data",
          "data": {
            "text/plain": [
              "<Figure size 640x480 with 1 Axes>"
            ],
            "image/png": "[encoded data removed]"
          },
          "metadata": {}
        },
        {
          "output_type": "stream",
          "name": "stdout",
          "text": [
            " \n",
            "Now change the equation and re-run the code.\n"
          ]
        }
      ]
    },
    {
      "cell_type": "markdown",
      "metadata": {
        "id": "Q19Wm90DF5zf"
      },
      "source": [
        "# Step 10 - Creating Interactive Graphs"
      ]
    },
    {
      "cell_type": "markdown",
      "metadata": {
        "id": "JNEjD9DxF5zh"
      },
      "source": [
        "Like the previous graphs, you will graph a line. This time, you will create two sliders to change the <i>slope</i> and the <i>y intecept</i>. Notice the additional imports and other changes: You define a function with two arguments. All of the graphing happens within that `f(m,b)` function. The `interactive()` function calls your defined function and sets the boundaries for the sliders. Run this code then adjust the sliders and notice how they affect the graph."
      ]
    },
    {
      "cell_type": "code",
      "metadata": {
        "id": "9lh41CENF5zh",
        "outputId": "6e88407a-b1b4-4163-e356-054ce51b1ef7",
        "colab": {
          "base_uri": "https://localhost:8080/",
          "height": 551,
          "referenced_widgets": [
            "eade33422c1147149b6788a786f3470e",
            "170c311bcfd74c64af89d2a61ec9e61b",
            "b9c94e5e303447a4860850f81c03cce6",
            "60e004937fde4fa69f2d528bd13572a1",
            "c70181848cb5499cb326a30441c19fd1",
            "34c6abe72635421ca920d20242cb70b0",
            "55815d4da9864f36b8dcacacbd21f0c6",
            "903243f3b03a454594a1a0b5b34ae5c9",
            "5e08d4b63290438495ba7d83d7ad732c",
            "37d9dde08f8d4afbbc0cee3a5a2e3777"
          ]
        }
      },
      "source": [
        "%matplotlib inline\n",
        "from ipywidgets import interactive\n",
        "import matplotlib.pyplot as plt\n",
        "import numpy as np\n",
        "\n",
        "# Define the graphing function\n",
        "def f(m, b):\n",
        "    xmin = -10\n",
        "    xmax = 10\n",
        "    ymin = -10\n",
        "    ymax = 10\n",
        "    plt.axis([xmin,xmax,ymin,ymax]) # window size\n",
        "    plt.plot([xmin,xmax],[0,0],'black') # black x axis\n",
        "    plt.plot([0,0],[ymin,ymax], 'black') # black y axis\n",
        "    plt.title('y = mx + b')\n",
        "    x = np.linspace(-10, 10, 1000)\n",
        "    plt.plot(x, m*x+b)\n",
        "    plt.show()\n",
        "\n",
        "# Set up the sliders\n",
        "interactive_plot = interactive(f, m=(-9, 9), b=(-9, 9))\n",
        "interactive_plot\n",
        "\n",
        "\n",
        "# Just run this code and use the sliders\n",
        "import math_code_test_b as test\n",
        "test.step01()\n",
        "interactive_plot"
      ],
      "execution_count": 11,
      "outputs": [
        {
          "output_type": "stream",
          "name": "stdout",
          "text": [
            "Code test Passed\n",
            "Go on to the next step\n"
          ]
        },
        {
          "output_type": "display_data",
          "data": {
            "text/plain": [
              "interactive(children=(IntSlider(value=0, description='m', max=9, min=-9), IntSlider(value=0, description='b', …"
            ],
            "application/vnd.jupyter.widget-view+json": {
              "version_major": 2,
              "version_minor": 0,
              "model_id": "eade33422c1147149b6788a786f3470e"
            }
          },
          "metadata": {}
        }
      ]
    },
    {
      "cell_type": "markdown",
      "metadata": {
        "id": "YSY2k7S3F6d7"
      },
      "source": [
        "# Step 11 - Graphing Systems"
      ]
    },
    {
      "cell_type": "markdown",
      "metadata": {
        "id": "8MG28-VPF6d8"
      },
      "source": [
        "When you graph two equations on the same coordinate plane, they are a <i>system of equations</i>. Notice how the `points` variable defines the number of points and the `linspace()` function uses that variable. Run this code to see the graph, then change `y2` so that it graphs y = -x - 3."
      ]
    },
    {
      "cell_type": "code",
      "metadata": {
        "id": "wYHGm-PAF6d9",
        "outputId": "e9ea6dfa-2645-4338-d96d-3e1b133194d3",
        "colab": {
          "base_uri": "https://localhost:8080/",
          "height": 470
        }
      },
      "source": [
        "import matplotlib.pyplot as plt\n",
        "import numpy as np\n",
        "\n",
        "\n",
        "xmin = -10\n",
        "xmax = 10\n",
        "ymin = -10\n",
        "ymax = 10\n",
        "points = 2*(xmax-xmin)\n",
        "\n",
        "# Define the x values once\n",
        "x = np.linspace(xmin,xmax,points)\n",
        "\n",
        "fig, ax = plt.subplots()\n",
        "plt.axis([xmin,xmax,ymin,ymax]) # window size\n",
        "plt.plot([xmin,xmax],[0,0],'b') # blue x axis\n",
        "plt.plot([0,0],[ymin,ymax], 'b') # blue y axis\n",
        "\n",
        "# line 1\n",
        "y1 = 2*x\n",
        "plt.plot(x, y1)\n",
        "\n",
        "# line 2\n",
        "y2 = x**2 - 3\n",
        "plt.plot(x, y2)\n",
        "\n",
        "plt.show()\n",
        "\n",
        "\n",
        "# Only change code above this line\n",
        "import math_code_test_b as test\n",
        "test.step11(In[-1].split('# Only change code above this line')[0])"
      ],
      "execution_count": 12,
      "outputs": [
        {
          "output_type": "display_data",
          "data": {
            "text/plain": [
              "<Figure size 640x480 with 1 Axes>"
            ],
            "image/png": "[encoded data removed]"
          },
          "metadata": {}
        },
        {
          "output_type": "stream",
          "name": "stdout",
          "text": [
            " \n",
            "Now change y2 and re-run the code.\n"
          ]
        }
      ]
    },
    {
      "cell_type": "markdown",
      "metadata": {
        "id": "ykj42UNeF7K5"
      },
      "source": [
        "# Step 12 - Systems of Equations - Algebra"
      ]
    },
    {
      "cell_type": "markdown",
      "metadata": {
        "id": "n_-rpo6nF7K7"
      },
      "source": [
        "In a system of equations, the solution is the point where the two equations intersect, the (x,y) values that work in each equation. To work with algabraic expressions, you will import `sympy` and define x and y as symbols. If you have two equations and two variables, set each equation equal to zero. The `linsolve()` function takes the non-zero side of each equation and the variables used. Notice the syntax. Run the code, then change the two equations to solve 2x + y - 15 = 0 and 3x - y = 0."
      ]
    },
    {
      "cell_type": "code",
      "metadata": {
        "id": "6dFzZfqRF7K7",
        "outputId": "23f7c98e-b187-4771-bd07-2dd1296dcdbe",
        "colab": {
          "base_uri": "https://localhost:8080/"
        }
      },
      "source": [
        "from sympy import *\n",
        "x,y = symbols('x y')\n",
        "\n",
        "\n",
        "# Change the equations in the following line:\n",
        "print(linsolve([2*x + y - 1, x - 2*y + 7], (x, y)))\n",
        "\n",
        "\n",
        "# Only change code above this line\n",
        "import math_code_test_b as test\n",
        "test.step12(In[-1].split('# Only change code above this line')[0])"
      ],
      "execution_count": 13,
      "outputs": [
        {
          "output_type": "stream",
          "name": "stdout",
          "text": [
            "{(-1, 3)}\n",
            " \n",
            "Now change the equations and re-run the code.\n"
          ]
        }
      ]
    },
    {
      "cell_type": "markdown",
      "source": [
        "# Step 13 - Solutions as Coordinates"
      ],
      "metadata": {
        "id": "QSKeBTgXHRAv"
      }
    },
    {
      "cell_type": "markdown",
      "source": [
        "The `linsolve()` function returns a <i>finite set</i>, and you can convert that \"finite set\" into (x,y) coordinates. Notice how the code parses the `solution` variable into two separate variables. Just run the code to see how this works."
      ],
      "metadata": {
        "id": "D2Ca3L-fHCzi"
      }
    },
    {
      "cell_type": "code",
      "source": [
        "from sympy import *\n",
        "x,y = symbols('x y')\n",
        "\n",
        "# Use variables for each equation\n",
        "first = x + y\n",
        "second = x - y\n",
        "\n",
        "# parse finite set answer as coordinate pair\n",
        "solution = linsolve([first, second], (x, y))\n",
        "x_solution = solution.args[0][0]\n",
        "y_solution = solution.args[0][1]\n",
        "\n",
        "print(\"x = \", x_solution)\n",
        "print(\"y = \", y_solution)\n",
        "print(\" \")\n",
        "print(\"Solution: (\",x_solution,\",\",y_solution,\")\")\n",
        "\n",
        "\n",
        "# Just run this code\n",
        "import math_code_test_b as test\n",
        "test.step01()"
      ],
      "metadata": {
        "id": "7uhBD85SHK3S",
        "outputId": "6faba394-71e4-411e-c1f8-4192b14a2319",
        "colab": {
          "base_uri": "https://localhost:8080/"
        }
      },
      "execution_count": 14,
      "outputs": [
        {
          "output_type": "stream",
          "name": "stdout",
          "text": [
            "x =  0\n",
            "y =  0\n",
            " \n",
            "Solution: ( 0 , 0 )\n",
            "Code test Passed\n",
            "Go on to the next step\n"
          ]
        }
      ]
    },
    {
      "cell_type": "markdown",
      "metadata": {
        "id": "0epVLhL0F88U"
      },
      "source": [
        "# Step 14 - Systems from User Input"
      ]
    },
    {
      "cell_type": "markdown",
      "metadata": {
        "id": "VhoI5uNrF88V"
      },
      "source": [
        "For more flexibility, you can get each equation as user input (instead of defining them in the code). Run this code and try it out - to solve any system of two equations."
      ]
    },
    {
      "cell_type": "code",
      "metadata": {
        "id": "8irtXhucF88W",
        "outputId": "0691e93b-a707-4a7d-d621-43ca93804f0e",
        "colab": {
          "base_uri": "https://localhost:8080/"
        }
      },
      "source": [
        "from sympy import *\n",
        "\n",
        "x,y = symbols('x y')\n",
        "print(\"Remember to use Python syntax with x and y as variables\")\n",
        "print(\"Notice how each equation is already set equal to zero\")\n",
        "first = input(\"Enter the first equation: 0 = \")\n",
        "second = input(\"Enter the second equation: 0 = \")\n",
        "solution = linsolve([first, second], (x, y))\n",
        "x_solution = solution.args[0][0]\n",
        "y_solution = solution.args[0][1]\n",
        "\n",
        "print(\"x = \", x_solution)\n",
        "print(\"y = \", y_solution)\n",
        "\n",
        "\n",
        "# Just run this code and test it with different equations\n",
        "import math_code_test_b as test\n",
        "test.step14()"
      ],
      "execution_count": 15,
      "outputs": [
        {
          "output_type": "stream",
          "name": "stdout",
          "text": [
            "Remember to use Python syntax with x and y as variables\n",
            "Notice how each equation is already set equal to zero\n",
            "Enter the first equation: 0 = 3*x+4-y\n",
            "Enter the second equation: 0 = 5*x + 5 - y\n",
            "x =  -1/2\n",
            "y =  5/2\n",
            " \n",
            "If you didn't get a syntax error, code test passed\n"
          ]
        }
      ]
    },
    {
      "cell_type": "markdown",
      "source": [
        "# Step 15 - Solve and graph a system"
      ],
      "metadata": {
        "id": "8FCFQaq1Hizh"
      }
    },
    {
      "cell_type": "markdown",
      "source": [
        "Now you can put it all together: solve a system of equations, graph the system, and plot a point where the two lines intersect. Notice how this code is not like the previous solving equations code or the graphing code or the user input code. Python uses `sympy` to get the (x,y) solution and `numpy` to get the values to graph, so the user inputs nummerical values and the code uses them in two different ways. Think about how you would do this if the user input values for ax + by = c."
      ],
      "metadata": {
        "id": "wMwKLQvyHaWp"
      }
    },
    {
      "cell_type": "code",
      "source": [
        "from sympy import *\n",
        "import matplotlib.pyplot as plt\n",
        "import numpy as np\n",
        "\n",
        "print(\"First equation: y = mx + b\")\n",
        "mb_1 = input(\"Enter m and b, separated by a comma: \")\n",
        "mb_in1 = mb_1.split(\",\")\n",
        "m1 = float(mb_in1[0])\n",
        "b1 = float(mb_in1[1])\n",
        "\n",
        "print(\"Second equation: y = mx + b\")\n",
        "mb_2 = input(\"Enter m and b, separated by a comma: \")\n",
        "mb_in2 = mb_2.split(\",\")\n",
        "m2 = float(mb_in2[0])\n",
        "b2 = float(mb_in2[1])\n",
        "\n",
        "# Solve the system of equations\n",
        "x,y = symbols('x y')\n",
        "first = m1*x + b1 - y\n",
        "second = m2*x + b2 - y\n",
        "solution = linsolve([first, second], (x, y))\n",
        "x_solution = round(float(solution.args[0][0]),3)\n",
        "y_solution = round(float(solution.args[0][1]),3)\n",
        "\n",
        "# Make sure the window includes the solution\n",
        "xmin = int(x_solution) - 20\n",
        "xmax = int(x_solution) + 20\n",
        "ymin = int(y_solution) - 20\n",
        "ymax = int(y_solution) + 20\n",
        "points = 2*(xmax-xmin)\n",
        "\n",
        "# Define the x values once for the graph\n",
        "graph_x = np.linspace(xmin,xmax,points)\n",
        "\n",
        "# Define the y values for the graph\n",
        "y1 = m1*graph_x + b1\n",
        "y2 = m2*graph_x + b2\n",
        "\n",
        "fig, ax = plt.subplots()\n",
        "plt.axis([xmin,xmax,ymin,ymax]) # window size\n",
        "plt.plot([xmin,xmax],[0,0],'b') # blue x axis\n",
        "plt.plot([0,0],[ymin,ymax], 'b') # blue y axis\n",
        "\n",
        "# line 1\n",
        "plt.plot(graph_x, y1)\n",
        "\n",
        "# line 2\n",
        "plt.plot(graph_x, y2)\n",
        "\n",
        "# point\n",
        "plt.plot([x_solution],[y_solution],'ro')\n",
        "\n",
        "plt.show()\n",
        "print(\" \")\n",
        "print(\"Solution: (\", x_solution, \",\", y_solution, \")\")\n",
        "\n",
        "\n",
        "# Run this code and test it with different equations\n"
      ],
      "metadata": {
        "id": "wLBNm5j6HffY",
        "outputId": "4566cf22-df40-45e3-dc30-7e80335dea94",
        "colab": {
          "base_uri": "https://localhost:8080/",
          "height": 539
        }
      },
      "execution_count": 16,
      "outputs": [
        {
          "name": "stdout",
          "output_type": "stream",
          "text": [
            "First equation: y = mx + b\n",
            "Enter m and b, separated by a comma: 3,5\n",
            "Second equation: y = mx + b\n",
            "Enter m and b, separated by a comma: -1,6\n"
          ]
        },
        {
          "output_type": "display_data",
          "data": {
            "text/plain": [
              "<Figure size 640x480 with 1 Axes>"
            ],
            "image/png": "[encoded data removed]"
          },
          "metadata": {}
        },
        {
          "output_type": "stream",
          "name": "stdout",
          "text": [
            " \n",
            "Solution: ( 0.25 , 5.75 )\n"
          ]
        }
      ]
    },
    {
      "cell_type": "markdown",
      "metadata": {
        "id": "BhKPZQJZF9w0"
      },
      "source": [
        "# Step 16 - Quadratic Functions"
      ]
    },
    {
      "cell_type": "markdown",
      "metadata": {
        "id": "BYmD2FYHF9w1"
      },
      "source": [
        "Any function that involves x<sup>2</sup> is a \"quadratic\" function because \"x squared\" could be the area of a square. The graph is a parabola. The formula is y = ax<sup>2</sup> + bx + c, where `b` and `c` can be zero but `a` has to be a number. Here is a graph of the simplest parabola."
      ]
    },
    {
      "cell_type": "code",
      "metadata": {
        "id": "sfQl_A1CF9w1",
        "outputId": "326011b7-b9b5-4dc4-925c-a9f12dd09c12",
        "colab": {
          "base_uri": "https://localhost:8080/",
          "height": 470
        }
      },
      "source": [
        "import matplotlib.pyplot as plt\n",
        "import numpy as np\n",
        "\n",
        "xmin = -10\n",
        "xmax = 10\n",
        "ymin = -10\n",
        "ymax = 10\n",
        "points = 2*(xmax-xmin)\n",
        "x = np.linspace(xmin,xmax,points)\n",
        "\n",
        "fig, ax = plt.subplots()\n",
        "plt.axis([xmin,xmax,ymin,ymax]) # window size\n",
        "plt.plot([xmin,xmax],[0,0],'b') # blue x axis\n",
        "plt.plot([0,0],[ymin,ymax], 'b') # blue y axis\n",
        "\n",
        "y = x**2\n",
        "\n",
        "plt.plot(x,y)\n",
        "plt.show()\n",
        "\n",
        "# Just run this code. The next step will transform the graph\n",
        "import math_code_test_b as test\n",
        "test.step01()"
      ],
      "execution_count": 17,
      "outputs": [
        {
          "output_type": "display_data",
          "data": {
            "text/plain": [
              "<Figure size 640x480 with 1 Axes>"
            ],
            "image/png": "[encoded data removed]"
          },
          "metadata": {}
        },
        {
          "output_type": "stream",
          "name": "stdout",
          "text": [
            "Code test Passed\n",
            "Go on to the next step\n"
          ]
        }
      ]
    },
    {
      "cell_type": "markdown",
      "metadata": {
        "id": "I0mklEluF-jI"
      },
      "source": [
        "# Step 17 - Quadratic Function ABC's"
      ]
    },
    {
      "cell_type": "markdown",
      "metadata": {
        "id": "AJuHf8ySF-jJ"
      },
      "source": [
        "Using the parabola formula y = ax<sup>2</sup> + bx + c, you will change the values of `a`, `b`, and `c` to see how they affect the graph. Run the code and use the sliders to change the values of `a` and `b`. Then change the code in the three places indicated to add a slider for `c`. You may remember this type of interactive graph from an earlier step. Move each slider to see how it affects the graph."
      ]
    },
    {
      "cell_type": "code",
      "metadata": {
        "id": "9IVFnXxVF-jJ",
        "outputId": "5a446978-e97d-4eb3-8662-36b08b29d330",
        "colab": {
          "base_uri": "https://localhost:8080/",
          "height": 534,
          "referenced_widgets": [
            "ff1f2e9ae8a44353becb4c025efe3d9c",
            "df0dc9e4129e4d7dac3e2c5a29274245",
            "ab5d991094db44fbb3b90823e2a3d943",
            "bcb35492828949ea9bdcdc894d097819",
            "cf3c87376eb0467981b3cfab64115cde",
            "4bbe4c9ed66549808cee319798894b6c",
            "e61abee53cea4a238b5b1cdf4e63666c",
            "f6c889de5fac4b3ba7c76b8eb7df3bd4",
            "9f10e1d8918c411b8f0ccfc2a5df9e8b",
            "a0c287d762a946e89a2b2052fa61ca41"
          ]
        }
      },
      "source": [
        "%matplotlib inline\n",
        "from ipywidgets import interactive\n",
        "import matplotlib.pyplot as plt\n",
        "import numpy as np\n",
        "\n",
        "# Change the next line to include c:\n",
        "def f(a,b):\n",
        "    plt.axis([-10,10,-10,10]) # window size\n",
        "    plt.plot([-10,10],[0,0],'k') # blue x axis\n",
        "    plt.plot([0,0],[-10,10], 'k') # blue y axis\n",
        "    x = np.linspace(-10, 10, 1000)\n",
        "\n",
        "    # Change the next line to add c to the end of the function:\n",
        "    plt.plot(x, a*x**2 + b*x)\n",
        "    plt.show()\n",
        "\n",
        "# Change the next line to add a slider to change the c value\n",
        "interactive_plot = interactive(f, a=(-9, 9), b=(-9,9))\n",
        "interactive_plot\n",
        "\n",
        "\n",
        "# Run the code once, then change the code and run it again\n",
        "\n",
        "# Only change code above this line\n",
        "import math_code_test_b as test\n",
        "test.step17(In[-1].split('# Only change code above this line')[0])\n",
        "interactive_plot"
      ],
      "execution_count": 18,
      "outputs": [
        {
          "output_type": "stream",
          "name": "stdout",
          "text": [
            "Now change the code and run it again\n",
            " \n"
          ]
        },
        {
          "output_type": "display_data",
          "data": {
            "text/plain": [
              "interactive(children=(IntSlider(value=0, description='a', max=9, min=-9), IntSlider(value=0, description='b', …"
            ],
            "application/vnd.jupyter.widget-view+json": {
              "version_major": 2,
              "version_minor": 0,
              "model_id": "ff1f2e9ae8a44353becb4c025efe3d9c"
            }
          },
          "metadata": {}
        }
      ]
    },
    {
      "cell_type": "markdown",
      "metadata": {
        "id": "eFehWNexGASC"
      },
      "source": [
        "# Step 18 - Quadratic Functions - Vertex"
      ]
    },
    {
      "cell_type": "markdown",
      "metadata": {
        "id": "p8hAZw_CGASD"
      },
      "source": [
        "The <i>vertex</i> is the point where the parabola turns around. The x value of the vertex is $\\frac{-b}{2a}$ (and then you would calculate the y value to get the point). Write the code to find the vertex, given `a`, `b`, and `c` as inputs. Remember the parabola forumula is y = ax<sup>2</sup> + bx + c"
      ]
    },
    {
      "cell_type": "code",
      "metadata": {
        "id": "cjMI5uZZGASD",
        "outputId": "b9987b9f-39b5-45a4-f0c2-570daa910429",
        "colab": {
          "base_uri": "https://localhost:8080/",
          "height": 591
        }
      },
      "source": [
        "import matplotlib.pyplot as plt\n",
        "import numpy as np\n",
        "\n",
        "# \\u00b2 prints 2 as an exponent\n",
        "print(\"y = ax\\u00b2 + bx + c\")\n",
        "\n",
        "a = float(input(\"a = \"))\n",
        "b = float(input(\"b = \"))\n",
        "c = float(input(\"c = \"))\n",
        "\n",
        "# Write your code here, changing vx and vy\n",
        "vx = -b/(2*a)\n",
        "vy = a*vx**2 + b*vx + c\n",
        "\n",
        "\n",
        "# Only change the code above this line\n",
        "\n",
        "print(\" (\", vx, \" , \", vy, \")\")\n",
        "print(\" \")\n",
        "\n",
        "xmin = int(vx)-10\n",
        "xmax = int(vx)+10\n",
        "ymin = int(vy)-10\n",
        "ymax = int(vy)+10\n",
        "points = 2*(xmax-xmin)\n",
        "x = np.linspace(xmin,xmax,points)\n",
        "\n",
        "fig, ax = plt.subplots()\n",
        "plt.axis([xmin,xmax,ymin,ymax]) # window size\n",
        "plt.plot([xmin,xmax],[0,0],'b') # blue x axis\n",
        "plt.plot([0,0],[ymin,ymax], 'b') # blue y axis\n",
        "\n",
        "plt.plot([vx],[vy],'ro') # vertex\n",
        "\n",
        "x = np.linspace(vx-10,vx+10,100)\n",
        "y = a*x**2 + b*x + c\n",
        "plt.plot(x,y)\n",
        "\n",
        "plt.show()\n",
        "\n",
        "\n",
        "# Only change code above this line\n",
        "import math_code_test_b as test\n",
        "test.step18(In[-1].split('# Only change code above this line')[0])"
      ],
      "execution_count": 20,
      "outputs": [
        {
          "output_type": "stream",
          "name": "stdout",
          "text": [
            "y = ax² + bx + c\n",
            "a = 1\n",
            "b = -5\n",
            "c = 6\n",
            " ( 2.5  ,  -0.25 )\n",
            " \n"
          ]
        },
        {
          "output_type": "display_data",
          "data": {
            "text/plain": [
              "<Figure size 640x480 with 1 Axes>"
            ],
            "image/png": "[encoded data removed]"
          },
          "metadata": {}
        },
        {
          "output_type": "stream",
          "name": "stdout",
          "text": [
            " \n",
            "Code test passed\n",
            "Go on to the next step\n"
          ]
        }
      ]
    },
    {
      "cell_type": "markdown",
      "metadata": {
        "id": "WbqugasGGCKJ"
      },
      "source": [
        "# Step 19 - Projectile Motion"
      ]
    },
    {
      "cell_type": "markdown",
      "metadata": {
        "id": "TtM_pFHaGCKK"
      },
      "source": [
        "The path of every projectile is a parabola. For something thrown or launched upward, the `a` value is -4.9 (meters per second squared); the `b` value is the initial velocity (in meters per second); the `c` value is the initial height (in meters); the `x` value is time (in seconds); and the `y` value is the height at that time. In this code, change `vx` and `vy` to represent the vertex. Plotting that (x,y) vertex point is already in the code."
      ]
    },
    {
      "cell_type": "code",
      "metadata": {
        "id": "FTNV_bjuGCKL",
        "outputId": "43001a8f-e50f-4359-d4bb-131025adabff",
        "colab": {
          "base_uri": "https://localhost:8080/",
          "height": 556
        }
      },
      "source": [
        "import matplotlib.pyplot as plt\n",
        "import numpy as np\n",
        "\n",
        "a = -4.9\n",
        "b = float(input(\"Initial velocity = \"))\n",
        "c = float(input(\"Initial height = \"))\n",
        "\n",
        "# Change vx and vy to represent the vertex\n",
        "vx = -b/(2*a)\n",
        "vy = a*vx**2 + b*vx + c\n",
        "\n",
        "\n",
        "# Also change the following dimensions to display the vertex\n",
        "xmin = -10\n",
        "xmax = 10\n",
        "ymin = -10\n",
        "ymax = 10\n",
        "\n",
        "# You do not need to change anything below this line\n",
        "points = 4*(xmax-xmin)\n",
        "x = np.linspace(xmin,xmax,points)\n",
        "y = a*x**2 + b*x + c\n",
        "\n",
        "fig, ax = plt.subplots()\n",
        "plt.axis([xmin,xmax,ymin,ymax]) # window size\n",
        "plt.plot([xmin,xmax],[0,0],'b') # blue x axis\n",
        "plt.plot([0,0],[ymin,ymax], 'b') # blue y axis\n",
        "\n",
        "plt.plot(x,y) # plot the line for the equation\n",
        "plt.plot([vx],[vy],'ro') # plot the vertex point\n",
        "\n",
        "print(\" (\", vx, \",\", vy, \")\")\n",
        "print(\" \")\n",
        "plt.show()\n",
        "\n",
        "\n",
        "# Only change code above this line\n",
        "import math_code_test_b as test\n",
        "test.step19(In[-1].split('# Only change code above this line')[0])"
      ],
      "execution_count": 22,
      "outputs": [
        {
          "output_type": "stream",
          "name": "stdout",
          "text": [
            "Initial velocity = 40\n",
            "Initial height = 2\n",
            " ( 4.081632653061225 , 83.63265306122447 )\n",
            " \n"
          ]
        },
        {
          "output_type": "display_data",
          "data": {
            "text/plain": [
              "<Figure size 640x480 with 1 Axes>"
            ],
            "image/png": "[encoded data removed]"
          },
          "metadata": {}
        },
        {
          "output_type": "stream",
          "name": "stdout",
          "text": [
            " \n",
            "Code test passed\n",
            "Go on to the next step\n"
          ]
        }
      ]
    },
    {
      "cell_type": "markdown",
      "metadata": {
        "id": "hN_fvENUGBAm"
      },
      "source": [
        "# Step 20 - Quadratic Functions - C"
      ]
    },
    {
      "cell_type": "markdown",
      "metadata": {
        "id": "GrJNli5pGBAn"
      },
      "source": [
        "Like many other functions, the `c` value (also called the \"constant\" because it is not a variable) affects the vertical shift of the graph. Run the following code to see how changing the `c` value changes the graph."
      ]
    },
    {
      "cell_type": "code",
      "metadata": {
        "id": "hiSN0VexGBAn",
        "outputId": "9ac72bd6-c3a7-43a2-e3e3-a6e91fca295c",
        "colab": {
          "base_uri": "https://localhost:8080/",
          "height": 487
        }
      },
      "source": [
        "import matplotlib.pyplot as plt\n",
        "import numpy as np\n",
        "import time\n",
        "from IPython import display\n",
        "\n",
        "x = np.linspace(-4,4,16)\n",
        "fig, ax = plt.subplots()\n",
        "cvalue = \"c = \"\n",
        "\n",
        "for c in range(10):\n",
        "    y = -x**2+c\n",
        "    plt.plot(x,y)\n",
        "    cvalue = \"c = \", c\n",
        "    ax.set_title(cvalue)\n",
        "    display.display(plt.gcf())\n",
        "    time.sleep(0.5)\n",
        "    display.clear_output(wait=True)\n",
        "\n",
        "# Just run this code\n",
        "import math_code_test_b as test\n",
        "test.step01()"
      ],
      "execution_count": 23,
      "outputs": [
        {
          "output_type": "stream",
          "name": "stdout",
          "text": [
            "Code test Passed\n",
            "Go on to the next step\n"
          ]
        },
        {
          "output_type": "display_data",
          "data": {
            "text/plain": [
              "<Figure size 640x480 with 1 Axes>"
            ],
            "image/png": "[encoded data removed]"
          },
          "metadata": {}
        }
      ]
    },
    {
      "cell_type": "markdown",
      "metadata": {
        "id": "vteEy9QFGD5I"
      },
      "source": [
        "# Step 21 - The Quadratic Formula"
      ]
    },
    {
      "cell_type": "markdown",
      "metadata": {
        "id": "xALyhEsNGD5J"
      },
      "source": [
        "For a projectile, you also need to find the point when it hits the ground. On a graph, you would call these points the \"roots\" or \"x intercepts\" or \"zeros\" (because y = 0 at these points). The <i>quadratic formula</i> gives you the x value when y = 0. Given `a`,`b` and `c`, here is the quadratic formula:<br> x = $\\frac{-b \\pm \\sqrt{b^2 - 4ac}}{2a}$ Notice it's the vertex plus or minus something: $\\frac{-b}{2a} + \\frac{\\sqrt{b^2 - 4ac}}{2a}$ and $\\frac{-b}{2a} - \\frac{\\sqrt{b^2 - 4ac}}{2a}$ <br>\n",
        "Write the code to output two x values, given a, b, and c as input. Use `math.sqrt()` for the square root."
      ]
    },
    {
      "cell_type": "code",
      "metadata": {
        "id": "R3OIh1pOGD5K",
        "outputId": "fe81e4d5-c643-42c4-9f85-7c2b76cd56c3",
        "colab": {
          "base_uri": "https://localhost:8080/"
        }
      },
      "source": [
        "import math\n",
        "\n",
        "# \\u00b2 prints 2 as an exponent\n",
        "print(\"0 = ax\\u00b2 + bx + c\")\n",
        "a = float(input(\"a = \"))\n",
        "b = float(input(\"b = \"))\n",
        "c = float(input(\"c = \"))\n",
        "x1 = 0\n",
        "x2 = 0\n",
        "\n",
        "# Check for non-real answers:\n",
        "if b**2-4*a*c < 0:\n",
        "    print(\"No real roots\")\n",
        "else:\n",
        "    # Write your code here, changing x1 and x2\n",
        "    x1 = (-b + math.sqrt(b**2 - 4*a*c))/(2*a)\n",
        "    x2 = (-b - math.sqrt(b**2 - 4*a*c))/(2*a)\n",
        "    print(\"The roots are \", x1, \" and \", x2)\n",
        "\n",
        "\n",
        "\n",
        "# Only change code above this line\n",
        "import math_code_test_b as test\n",
        "test.step21(In[-1].split('# Only change code above this line')[0])"
      ],
      "execution_count": 25,
      "outputs": [
        {
          "output_type": "stream",
          "name": "stdout",
          "text": [
            "0 = ax² + bx + c\n",
            "a = 1\n",
            "b = 5\n",
            "c = 6\n",
            "The roots are  -2.0  and  -3.0\n",
            " \n",
            "Code test passed\n",
            "Go on to the next step\n"
          ]
        }
      ]
    },
    {
      "cell_type": "markdown",
      "metadata": {
        "id": "VXxx7RCVSs4j"
      },
      "source": [
        "# Step 22 - Table of Values"
      ]
    },
    {
      "cell_type": "markdown",
      "metadata": {
        "id": "9Bd8bgPISiRH"
      },
      "source": [
        "In addition to graphing a function, you may need a table of values. This code shows how to make a simple table of (x,y) values. Run the code, then change the title to \"y = 3x + 2\" and change the function in the table."
      ]
    },
    {
      "cell_type": "code",
      "metadata": {
        "id": "e4dBSioJGGd3",
        "outputId": "d2877420-9f37-403b-91cc-e7ad25c71b79",
        "colab": {
          "base_uri": "https://localhost:8080/",
          "height": 480
        }
      },
      "source": [
        "import numpy as np\n",
        "import matplotlib.pyplot as plt\n",
        "\n",
        "ax = plt.subplot()\n",
        "ax.set_axis_off()\n",
        "title = \"y = 3x + 2\" # Change this title\n",
        "cols = ('x', 'y')\n",
        "rows = [[0,0]]\n",
        "for a in range(1,10):\n",
        "    rows.append([a, 3*a+2]) # Change only the function in this line\n",
        "\n",
        "ax.set_title(title)\n",
        "plt.table(cellText=rows, colLabels=cols, cellLoc='center', loc='upper left')\n",
        "plt.show()\n",
        "\n",
        "\n",
        "# Only change code above this line\n",
        "import math_code_test_b as test\n",
        "test.step22(In[-1].split('# Only change code above this line')[0])"
      ],
      "execution_count": 28,
      "outputs": [
        {
          "output_type": "display_data",
          "data": {
            "text/plain": [
              "<Figure size 640x480 with 1 Axes>"
            ],
            "image/png": "[encoded data removed]"
          },
          "metadata": {}
        },
        {
          "output_type": "stream",
          "name": "stdout",
          "text": [
            " \n",
            "Code test passed\n",
            "Go on to the next step\n"
          ]
        }
      ]
    },
    {
      "cell_type": "markdown",
      "metadata": {
        "id": "jpo7oASHGEu7"
      },
      "source": [
        "# Step 23 - Projectile Game"
      ]
    },
    {
      "cell_type": "markdown",
      "metadata": {
        "id": "WHx9faGkGEu7"
      },
      "source": [
        "Learn quadratic functions by building a projectile game. Starting at (0,0) you launch a toy rocket that must clear a wall. You can randomize the height and location of the wall. The goal is to determine what initial velocity would get the rocket over the wall. Bonus: make an animation of the path of the rocket.\n"
      ]
    },
    {
      "cell_type": "code",
      "metadata": {
        "id": "-yFfSgoeWHN3"
      },
      "source": [
        "# Write your code here\n",
        "\n",
        "\n",
        "# This step does not have a test"
      ],
      "execution_count": 29,
      "outputs": []
    },
    {
      "cell_type": "code",
      "source": [
        "import matplotlib.pyplot as plt\n",
        "import numpy as np\n",
        "import random\n",
        "import math\n",
        "\n",
        "loc = random.randint(1,100)\n",
        "h = random.randint(1,1000)\n",
        "print (\"A toy rocket has to clear wall \", loc, \" meters away\")\n",
        "a = -4.9\n",
        "b = float(input(\"initial velocity in m/s = \"))\n",
        "c = 0\n",
        "\n",
        "# change vx and vy No represent the vertex\n",
        "vx = -b/(2*a)\n",
        "vy = a*vx**2 + b*vx + c\n",
        "\n",
        "# Also change x max\n",
        "\n",
        "xmin = -1\n",
        "xmax = int(2*vx + 20)\n",
        "ymin = -1\n",
        "ymax = int(vy + 10)\n",
        "\n",
        "# you do not need to change anything this line\n",
        "points = 2*(xmax - xmin)\n",
        "x = np.linspace(xmin,xmax,points)\n",
        "y = a*x**2 + b*2 + c\n",
        "\n",
        "fig, ax = plt.subplots()\n",
        "plt.axis([xmin,xmax,ymin,ymax]) # window size\n",
        "plt.plot([xmin,xmax],[0,0],'b') # blue x axis\n",
        "plt.plot([0,0],[ymin,ymax], 'b') # blue y axis\n",
        "\n",
        "# line for target distance\n",
        "plt.plot([loc,loc],[0,h], 'r')\n",
        "\n",
        "plt.plot([vx],[vy],'ro') # plot the vertex point\n",
        "\n",
        "root2 = round((-b - math.sqrt(b**2 - 4*a*c))/(2*a),2)\n",
        "if root2>=loc:\n",
        "  print('Distance: ', root2, \" Success! \")\n",
        "else:\n",
        "  print(\"Missed it by that much \")\n",
        "\n",
        "print(\"\")\n",
        "plt.show()"
      ],
      "metadata": {
        "id": "2OKTZYKwvtjD",
        "outputId": "06318580-caf3-4cee-b9fd-20ea030ec8fd",
        "colab": {
          "base_uri": "https://localhost:8080/",
          "height": 499
        }
      },
      "execution_count": 30,
      "outputs": [
        {
          "output_type": "stream",
          "name": "stdout",
          "text": [
            "A toy rocket has to clear wall  82  meters away\n",
            "initial velocity in m/s = 300\n",
            "Missed it by that much \n",
            "\n"
          ]
        },
        {
          "output_type": "display_data",
          "data": {
            "text/plain": [
              "<Figure size 640x480 with 1 Axes>"
            ],
            "image/png": "[encoded data removed]"
          },
          "metadata": {}
        }
      ]
    },
    {
      "cell_type": "markdown",
      "source": [
        "# Step 24 - Define Graphing Functions"
      ],
      "metadata": {
        "id": "pE5o0-VMaIy3"
      }
    },
    {
      "cell_type": "markdown",
      "source": [
        "Building on what you have already done, create a menu with the following options:<br>\n",
        "<ul>\n",
        "<li>Display the graph and a table of values for any \"y=\" equation input</li>\n",
        "<li>Solve a system of two equations without graphing</li>\n",
        "<li>Graph two equations and plot the point of intersection</li>\n",
        "<li>Given a, b and c in a quadratic equation, plot the roots and vertex</li>\n",
        "</ul>\n",
        "Then think about how you will define a function for each item."
      ],
      "metadata": {
        "id": "c5tXoITnag_P"
      }
    },
    {
      "cell_type": "code",
      "source": [
        "# Write your code here\n",
        "\n",
        "\n",
        "# This step does not have a test"
      ],
      "metadata": {
        "id": "lvuStaKYalPo"
      },
      "execution_count": 31,
      "outputs": []
    },
    {
      "cell_type": "markdown",
      "source": [
        "# Step 25 - Certification Project 2"
      ],
      "metadata": {
        "id": "D7ASvHg3b2Ph"
      }
    },
    {
      "cell_type": "markdown",
      "source": [
        "Build a graphing calculator that performs the functions mentioned in the previous step:\n",
        "<ul>\n",
        "<li>Display the graph and a table of values for any \"y=\" equation input</li>\n",
        "<li>Solve a system of two equations without graphing</li>\n",
        "<li>Graph two equations and plot the point of intersection</li>\n",
        "<li>Given a, b and c in a quadratic equation, plot the roots and vertex</li>\n",
        "</ul>\n",
        "Define each of the functions, and make each option call a function."
      ],
      "metadata": {
        "id": "KBcTUf08cRy1"
      }
    },
    {
      "cell_type": "code",
      "source": [
        "# Write your code here\n",
        "\n",
        "\n",
        "# This step does not have a test"
      ],
      "metadata": {
        "id": "bmuz1zCecVCX"
      },
      "execution_count": 32,
      "outputs": []
    }
  ]
}